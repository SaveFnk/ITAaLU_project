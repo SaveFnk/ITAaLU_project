{
 "cells": [
  {
   "metadata": {},
   "cell_type": "markdown",
   "source": [
    "## preprocessing\n",
    "- Tokenization\n",
    "- Stop Word Removal\n",
    "- Lemmatization\n",
    "- Stemming"
   ],
   "id": "7d59c8f900477131"
  },
  {
   "metadata": {
    "ExecuteTime": {
     "end_time": "2024-04-15T20:24:26.846907Z",
     "start_time": "2024-04-15T20:24:26.843770Z"
    }
   },
   "cell_type": "code",
   "source": [
    "import nltk\n",
    "from nltk.corpus import stopwords\n",
    "from nltk.stem import WordNetLemmatizer, PorterStemmer\n",
    "from nltk.tokenize import word_tokenize\n",
    "\n",
    "\n",
    "nltk.download('punkt')\n",
    "nltk.download('stopwords')\n",
    "nltk.download('wordnet')"
   ],
   "id": "c474d2341aa4da4e",
   "outputs": [
    {
     "name": "stderr",
     "output_type": "stream",
     "text": [
      "[nltk_data] Downloading package punkt to /home/saveriofnk/nltk_data...\n",
      "[nltk_data]   Package punkt is already up-to-date!\n",
      "[nltk_data] Downloading package stopwords to\n",
      "[nltk_data]     /home/saveriofnk/nltk_data...\n",
      "[nltk_data]   Package stopwords is already up-to-date!\n",
      "[nltk_data] Downloading package wordnet to\n",
      "[nltk_data]     /home/saveriofnk/nltk_data...\n",
      "[nltk_data]   Package wordnet is already up-to-date!\n"
     ]
    },
    {
     "data": {
      "text/plain": [
       "True"
      ]
     },
     "execution_count": 7,
     "metadata": {},
     "output_type": "execute_result"
    }
   ],
   "execution_count": 7
  },
  {
   "metadata": {
    "ExecuteTime": {
     "end_time": "2024-04-15T20:24:26.850402Z",
     "start_time": "2024-04-15T20:24:26.847895Z"
    }
   },
   "cell_type": "code",
   "source": [
    "\n",
    "# Define your preprocessing function\n",
    "def preprocess_text(text_series):\n",
    "    # Tokenization\n",
    "    tokens = text_series.apply(word_tokenize)\n",
    "\n",
    "    # Lowercase and strip\n",
    "    tokens = tokens.apply(lambda x: [word.lower().strip() for word in x])\n",
    "\n",
    "    # Stop word removal\n",
    "    stop_words = set(stopwords.words(\"english\"))\n",
    "    filtered_tokens = tokens.apply(lambda x: [word for word in x if word.lower() not in stop_words])\n",
    "\n",
    "    # Lemmatization\n",
    "    lemmatizer = WordNetLemmatizer()\n",
    "    lemmatized_tokens = filtered_tokens.apply(lambda x: [lemmatizer.lemmatize(word, pos=\"v\") for word in x])\n",
    "\n",
    "    # Stemming\n",
    "    stemmer = PorterStemmer()\n",
    "    stemmed_tokens = lemmatized_tokens.apply(lambda x: [stemmer.stem(word) for word in x])\n",
    "\n",
    "    # Join tokens into a single string\n",
    "    preprocessed_text = stemmed_tokens.apply(lambda x: ' '.join(x))\n",
    "\n",
    "    return preprocessed_text"
   ],
   "id": "1118f0cc1fa69d21",
   "outputs": [],
   "execution_count": 8
  },
  {
   "metadata": {},
   "cell_type": "markdown",
   "source": "## Applying the Preprocessing Function to Text Data",
   "id": "ebe317e25e172498"
  },
  {
   "metadata": {
    "ExecuteTime": {
     "end_time": "2024-04-15T20:24:26.854438Z",
     "start_time": "2024-04-15T20:24:26.853157Z"
    }
   },
   "cell_type": "code",
   "source": "import pandas as pd",
   "id": "ecbc7baffeaf6129",
   "outputs": [],
   "execution_count": 9
  },
  {
   "metadata": {
    "ExecuteTime": {
     "end_time": "2024-04-15T20:24:27.078582Z",
     "start_time": "2024-04-15T20:24:26.855148Z"
    }
   },
   "cell_type": "code",
   "source": [
    "# Load the data from prepared_hatespeech_v2.csv\n",
    "dataset = pd.read_csv('../data/hatespeech_v2/prepared_hatespeech_v2.csv', sep=',')\n",
    "\n",
    "dataset = dataset[['tweet_id', 'label', 'text']]\n",
    "\n",
    "dataset.head()"
   ],
   "id": "cb26a519933221ba",
   "outputs": [
    {
     "data": {
      "text/plain": [
       "              tweet_id  label  \\\n",
       "0  1344794359233998850    0.0   \n",
       "1  1344794162625916935    0.0   \n",
       "2  1344794094837637121    0.0   \n",
       "3  1344790842117140483    0.0   \n",
       "4  1344788907360190465    0.0   \n",
       "\n",
       "                                                text  \n",
       "0  You know maybe doing a “challenge” where I dri...  \n",
       "1  RT @thehill: Black transgender woman found dea...  \n",
       "2  2021 Goals: Playtest and release Rumrunners. R...  \n",
       "3  Guest Co Host: Men Like Us Podcast #StopTheHat...  \n",
       "4  👏 Congratulations @AyodejiOsowobi @StandtoEndR...  "
      ],
      "text/html": [
       "<div>\n",
       "<style scoped>\n",
       "    .dataframe tbody tr th:only-of-type {\n",
       "        vertical-align: middle;\n",
       "    }\n",
       "\n",
       "    .dataframe tbody tr th {\n",
       "        vertical-align: top;\n",
       "    }\n",
       "\n",
       "    .dataframe thead th {\n",
       "        text-align: right;\n",
       "    }\n",
       "</style>\n",
       "<table border=\"1\" class=\"dataframe\">\n",
       "  <thead>\n",
       "    <tr style=\"text-align: right;\">\n",
       "      <th></th>\n",
       "      <th>tweet_id</th>\n",
       "      <th>label</th>\n",
       "      <th>text</th>\n",
       "    </tr>\n",
       "  </thead>\n",
       "  <tbody>\n",
       "    <tr>\n",
       "      <th>0</th>\n",
       "      <td>1344794359233998850</td>\n",
       "      <td>0.0</td>\n",
       "      <td>You know maybe doing a “challenge” where I dri...</td>\n",
       "    </tr>\n",
       "    <tr>\n",
       "      <th>1</th>\n",
       "      <td>1344794162625916935</td>\n",
       "      <td>0.0</td>\n",
       "      <td>RT @thehill: Black transgender woman found dea...</td>\n",
       "    </tr>\n",
       "    <tr>\n",
       "      <th>2</th>\n",
       "      <td>1344794094837637121</td>\n",
       "      <td>0.0</td>\n",
       "      <td>2021 Goals: Playtest and release Rumrunners. R...</td>\n",
       "    </tr>\n",
       "    <tr>\n",
       "      <th>3</th>\n",
       "      <td>1344790842117140483</td>\n",
       "      <td>0.0</td>\n",
       "      <td>Guest Co Host: Men Like Us Podcast #StopTheHat...</td>\n",
       "    </tr>\n",
       "    <tr>\n",
       "      <th>4</th>\n",
       "      <td>1344788907360190465</td>\n",
       "      <td>0.0</td>\n",
       "      <td>👏 Congratulations @AyodejiOsowobi @StandtoEndR...</td>\n",
       "    </tr>\n",
       "  </tbody>\n",
       "</table>\n",
       "</div>"
      ]
     },
     "execution_count": 10,
     "metadata": {},
     "output_type": "execute_result"
    }
   ],
   "execution_count": 10
  },
  {
   "metadata": {},
   "cell_type": "markdown",
   "source": "## Feature Extraction + TD-IDF + Naive Bayes",
   "id": "fd9a265d7c839c46"
  },
  {
   "metadata": {
    "ExecuteTime": {
     "end_time": "2024-04-15T20:24:27.081952Z",
     "start_time": "2024-04-15T20:24:27.079333Z"
    }
   },
   "cell_type": "code",
   "source": [
    "from sklearn.feature_extraction.text import TfidfVectorizer\n",
    "from sklearn.naive_bayes import MultinomialNB\n",
    "from sklearn.metrics import classification_report, accuracy_score\n",
    "from sklearn.pipeline import Pipeline\n",
    "from sklearn.model_selection import train_test_split\n",
    "from sklearn.preprocessing import FunctionTransformer"
   ],
   "id": "1923d4d64026a838",
   "outputs": [],
   "execution_count": 11
  },
  {
   "metadata": {
    "ExecuteTime": {
     "end_time": "2024-04-15T20:32:35.174969Z",
     "start_time": "2024-04-15T20:32:17.692964Z"
    }
   },
   "cell_type": "code",
   "source": [
    "# Split the data into training and test sets\n",
    "X_train, X_test, y_train, y_test = train_test_split(\n",
    "    dataset[\"text\"],\n",
    "    dataset[\"label\"],\n",
    "    test_size=0.25,\n",
    "    random_state=42\n",
    ")\n",
    "\n",
    "# Define the pipeline\n",
    "pipeline = Pipeline([\n",
    "    ('preprocessor', FunctionTransformer(preprocess_text, validate=False)),  # Apply preprocessing function\n",
    "    ('vectorizer', TfidfVectorizer()),  # Vectorize/extract features using TF-IDF\n",
    "    ('classifier', MultinomialNB())  # Train a Naive Bayes classifier\n",
    "])\n",
    "\n",
    "# Train the model\n",
    "pipeline.fit(X_train, y_train)\n",
    "\n",
    "# Predict\n",
    "nb_y_pred = pipeline.predict(X_test)\n",
    "\n",
    "# Evaluate\n",
    "nb_accuracy = accuracy_score(y_test, nb_y_pred)\n",
    "nb_report = classification_report(y_test, nb_y_pred)\n",
    "\n",
    "print(f\"Accuracy: {accuracy * 100:.2f}%\")  # Improve formatting to two decimal places\n",
    "print(\"Classification report:\\n\", report)  # Remove unnecessary f-string"
   ],
   "id": "d55f91fb50b4260",
   "outputs": [
    {
     "name": "stdout",
     "output_type": "stream",
     "text": [
      "Accuracy: 79.77%\n",
      "Classification report:\n",
      "               precision    recall  f1-score   support\n",
      "\n",
      "         0.0       0.80      1.00      0.89     13519\n",
      "         1.0       0.84      0.05      0.10      3229\n",
      "         2.0       0.00      0.00      0.00       402\n",
      "\n",
      "    accuracy                           0.80     17150\n",
      "   macro avg       0.55      0.35      0.33     17150\n",
      "weighted avg       0.79      0.80      0.72     17150\n",
      "\n"
     ]
    },
    {
     "name": "stderr",
     "output_type": "stream",
     "text": [
      "/home/saveriofnk/anaconda3/lib/python3.11/site-packages/sklearn/metrics/_classification.py:1344: UndefinedMetricWarning: Precision and F-score are ill-defined and being set to 0.0 in labels with no predicted samples. Use `zero_division` parameter to control this behavior.\n",
      "  _warn_prf(average, modifier, msg_start, len(result))\n",
      "/home/saveriofnk/anaconda3/lib/python3.11/site-packages/sklearn/metrics/_classification.py:1344: UndefinedMetricWarning: Precision and F-score are ill-defined and being set to 0.0 in labels with no predicted samples. Use `zero_division` parameter to control this behavior.\n",
      "  _warn_prf(average, modifier, msg_start, len(result))\n",
      "/home/saveriofnk/anaconda3/lib/python3.11/site-packages/sklearn/metrics/_classification.py:1344: UndefinedMetricWarning: Precision and F-score are ill-defined and being set to 0.0 in labels with no predicted samples. Use `zero_division` parameter to control this behavior.\n",
      "  _warn_prf(average, modifier, msg_start, len(result))\n"
     ]
    }
   ],
   "execution_count": 13
  },
  {
   "metadata": {},
   "cell_type": "markdown",
   "source": "## Feature Extraction + TD-IDF + SVM",
   "id": "4f82c084a1ff4fef"
  },
  {
   "metadata": {
    "ExecuteTime": {
     "end_time": "2024-04-15T20:32:39.916137Z",
     "start_time": "2024-04-15T20:32:39.914310Z"
    }
   },
   "cell_type": "code",
   "source": "from sklearn.svm import SVC",
   "id": "28586040da02be92",
   "outputs": [],
   "execution_count": 14
  },
  {
   "metadata": {
    "ExecuteTime": {
     "end_time": "2024-04-15T20:42:32.372205Z",
     "start_time": "2024-04-15T20:32:40.830760Z"
    }
   },
   "cell_type": "code",
   "source": [
    "# Define the pipeline\n",
    "pipeline = Pipeline([\n",
    "    ('preprocessor', FunctionTransformer(preprocess_text, validate=False)),  # Apply preprocessing function\n",
    "    ('vectorizer', TfidfVectorizer()),  # Vectorize/extract features using TF-IDF\n",
    "    ('classifier', SVC())  # Train an SVM classifier\n",
    "])\n",
    "\n",
    "# Train the model\n",
    "pipeline.fit(X_train, y_train)\n",
    "\n",
    "# Predict\n",
    "svm_y_pred = pipeline.predict(X_test)\n",
    "\n",
    "# Evaluate\n",
    "svm_accuracy = accuracy_score(y_test, svm_y_pred)\n",
    "svm_report = classification_report(y_test, svm_y_pred)\n",
    "\n",
    "print(f\"Accuracy: {svm_accuracy * 100:.2f}%\")  # Improve formatting to two decimal places\n",
    "print(\"Classification report:\\n\", svm_report)  # Remove unnecessary f-string\n"
   ],
   "id": "7e42e1bda264c20c",
   "outputs": [
    {
     "name": "stdout",
     "output_type": "stream",
     "text": [
      "Accuracy: 79.77%\n",
      "Classification report:\n",
      "               precision    recall  f1-score   support\n",
      "\n",
      "         0.0       0.80      1.00      0.89     13519\n",
      "         1.0       0.84      0.05      0.10      3229\n",
      "         2.0       0.00      0.00      0.00       402\n",
      "\n",
      "    accuracy                           0.80     17150\n",
      "   macro avg       0.55      0.35      0.33     17150\n",
      "weighted avg       0.79      0.80      0.72     17150\n",
      "\n"
     ]
    }
   ],
   "execution_count": 15
  },
  {
   "metadata": {},
   "cell_type": "code",
   "outputs": [],
   "execution_count": null,
   "source": "",
   "id": "22f691b3752f9545"
  }
 ],
 "metadata": {
  "kernelspec": {
   "display_name": "Python 3",
   "language": "python",
   "name": "python3"
  },
  "language_info": {
   "codemirror_mode": {
    "name": "ipython",
    "version": 2
   },
   "file_extension": ".py",
   "mimetype": "text/x-python",
   "name": "python",
   "nbconvert_exporter": "python",
   "pygments_lexer": "ipython2",
   "version": "2.7.6"
  }
 },
 "nbformat": 4,
 "nbformat_minor": 5
}
