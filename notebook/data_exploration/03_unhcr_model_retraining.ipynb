{
 "cells": [
  {
   "metadata": {},
   "cell_type": "markdown",
   "source": "## UNHR",
   "id": "cc9849d054d3a0a9"
  },
  {
   "metadata": {
    "ExecuteTime": {
     "end_time": "2024-04-21T08:34:24.173523Z",
     "start_time": "2024-04-21T08:34:15.660656Z"
    }
   },
   "cell_type": "code",
   "source": [
    "%load_ext autoreload\n",
    "%autoreload 2\n",
    "\n",
    "from transformers import AutoTokenizer, AutoModelForSequenceClassification\n",
    "from transformers import pipeline\n",
    "import tqdm\n",
    "import os\n",
    "import pandas as pd\n",
    "\n",
    "\n",
    "from src.preprocessing.hatespeech_dataset_querying import hatespeech_v2_load_train_and_validation_set, map_predicted_to_label_hatesv2, hatespeech_v2_load_test_set\n",
    "from src.preprocessing.toxigen_querying import load_toxigen_train_and_validation\n",
    "\n",
    "try:\n",
    "    print(run_only_once)\n",
    "except Exception as e:\n",
    "    print(os.getcwd())\n",
    "    os.chdir(\"./../..\")\n",
    "    print(os.getcwd())\n",
    "    run_only_once = \"Dir has already been changed\"## UNHR"
   ],
   "id": "40897b66ef4a657a",
   "outputs": [
    {
     "name": "stderr",
     "output_type": "stream",
     "text": [
      "C:\\Users\\Zan\\Desktop\\NTNU\\TDT4310_Intelligent_text_analysis_language_understanding\\ITAaLU_project\\venv\\Lib\\site-packages\\tqdm\\auto.py:21: TqdmWarning: IProgress not found. Please update jupyter and ipywidgets. See https://ipywidgets.readthedocs.io/en/stable/user_install.html\n",
      "  from .autonotebook import tqdm as notebook_tqdm\n"
     ]
    },
    {
     "name": "stdout",
     "output_type": "stream",
     "text": [
      "C:\\Users\\Zan\\Desktop\\NTNU\\TDT4310_Intelligent_text_analysis_language_understanding\\ITAaLU_project\\notebook\\data_exploration\n",
      "C:\\Users\\Zan\\Desktop\\NTNU\\TDT4310_Intelligent_text_analysis_language_understanding\\ITAaLU_project\n"
     ]
    }
   ],
   "execution_count": 1
  },
  {
   "metadata": {
    "ExecuteTime": {
     "end_time": "2024-04-21T08:34:24.932433Z",
     "start_time": "2024-04-21T08:34:24.175535Z"
    }
   },
   "cell_type": "code",
   "source": [
    "train_df, validation_df = hatespeech_v2_load_train_and_validation_set()\n",
    "test_df = hatespeech_v2_load_test_set()\n",
    "print(len(test_df))"
   ],
   "id": "81f0dece650dacd7",
   "outputs": [
    {
     "name": "stdout",
     "output_type": "stream",
     "text": [
      "13720\n"
     ]
    }
   ],
   "execution_count": 2
  },
  {
   "metadata": {
    "ExecuteTime": {
     "end_time": "2024-04-21T08:34:27.864678Z",
     "start_time": "2024-04-21T08:34:24.934449Z"
    }
   },
   "cell_type": "code",
   "source": [
    "%%time\n",
    "from src.preprocessing.general_preproc import preprocess_text\n",
    "\n",
    "\n",
    "tokenizer = AutoTokenizer.from_pretrained(\"unhcr/hatespeech-detection\")\n",
    "model = AutoModelForSequenceClassification.from_pretrained(\"unhcr/hatespeech-detection\")\n",
    "# Use a pipeline as a high-level helper\n",
    "pipe = pipeline(\"text-classification\", model=\"unhcr/hatespeech-detection\", device=\"cuda:0\")  # "
   ],
   "id": "1b6d7b50e4e8806f",
   "outputs": [
    {
     "name": "stderr",
     "output_type": "stream",
     "text": [
      "[nltk_data] Downloading package punkt to\n",
      "[nltk_data]     C:\\Users\\Zan\\AppData\\Roaming\\nltk_data...\n",
      "[nltk_data]   Package punkt is already up-to-date!\n",
      "[nltk_data] Downloading package stopwords to\n",
      "[nltk_data]     C:\\Users\\Zan\\AppData\\Roaming\\nltk_data...\n",
      "[nltk_data]   Package stopwords is already up-to-date!\n",
      "[nltk_data] Downloading package wordnet to\n",
      "[nltk_data]     C:\\Users\\Zan\\AppData\\Roaming\\nltk_data...\n",
      "[nltk_data]   Package wordnet is already up-to-date!\n"
     ]
    },
    {
     "name": "stdout",
     "output_type": "stream",
     "text": [
      "CPU times: total: 2.64 s\n",
      "Wall time: 2.72 s\n"
     ]
    }
   ],
   "execution_count": 3
  },
  {
   "metadata": {
    "ExecuteTime": {
     "end_time": "2024-04-21T08:39:02.545488Z",
     "start_time": "2024-04-21T08:34:27.865687Z"
    }
   },
   "cell_type": "code",
   "source": [
    "%%time\n",
    "test_df_modified = list(preprocess_text(test_df[\"text\"]).values)\n",
    "y_pred = pipe(test_df_modified)"
   ],
   "id": "e53d4742b7e05484",
   "outputs": [
    {
     "name": "stdout",
     "output_type": "stream",
     "text": [
      "CPU times: total: 3min 16s\n",
      "Wall time: 4min 34s\n"
     ]
    }
   ],
   "execution_count": 4
  },
  {
   "metadata": {
    "ExecuteTime": {
     "end_time": "2024-04-21T08:39:02.951105Z",
     "start_time": "2024-04-21T08:39:02.547497Z"
    }
   },
   "cell_type": "code",
   "source": [
    "from sklearn.metrics import classification_report\n",
    "# tokenizer.to(\"cuda:0\")\n",
    "y_truth = test_df[\"label\"]\n",
    "mapped_pred = map_predicted_to_label_hatesv2(y_pred)\n",
    "\n",
    "print(classification_report(y_truth, mapped_pred, digits=3))"
   ],
   "id": "f9a675b2aa8cbf20",
   "outputs": [
    {
     "name": "stdout",
     "output_type": "stream",
     "text": [
      "              precision    recall  f1-score   support\n",
      "\n",
      "           0      0.940     0.871     0.904     10873\n",
      "           1      0.654     0.595     0.623      2520\n",
      "           2      0.086     0.358     0.139       327\n",
      "\n",
      "    accuracy                          0.808     13720\n",
      "   macro avg      0.560     0.608     0.556     13720\n",
      "weighted avg      0.867     0.808     0.834     13720\n",
      "\n"
     ]
    }
   ],
   "execution_count": 5
  },
  {
   "metadata": {
    "ExecuteTime": {
     "end_time": "2024-04-21T08:39:02.955562Z",
     "start_time": "2024-04-21T08:39:02.952114Z"
    }
   },
   "cell_type": "code",
   "source": "",
   "id": "7079d45852d9b023",
   "outputs": [],
   "execution_count": 5
  },
  {
   "metadata": {},
   "cell_type": "markdown",
   "source": "## Retraining the whole model for our dataset",
   "id": "f3c00968a4c6d27d"
  },
  {
   "metadata": {
    "ExecuteTime": {
     "end_time": "2024-04-21T08:39:03.743740Z",
     "start_time": "2024-04-21T08:39:02.956569Z"
    }
   },
   "cell_type": "code",
   "source": [
    "# prepare the dataset in the correct format\n",
    "import datasets\n",
    "\n",
    "def convert_train_and_validation_to_dataset(train_df, validation_df):\n",
    "    train_dataset = datasets.Dataset.from_pandas(df=train_df.iloc[:100], split=\"train\")\n",
    "    validation_dataset = datasets.Dataset.from_pandas(df=validation_df.iloc[:100], split=\"validation\")\n",
    "    ds = datasets.DatasetDict()\n",
    "    ds[\"train\"] = train_dataset\n",
    "    ds[\"validation\"] = validation_dataset\n",
    "    return ds\n",
    "\n",
    "hate_dataset_dict = convert_train_and_validation_to_dataset(train_df, validation_df)\n",
    "hate_dataset_dict"
   ],
   "id": "943965dd58cc3925",
   "outputs": [
    {
     "data": {
      "text/plain": [
       "DatasetDict({\n",
       "    train: Dataset({\n",
       "        features: ['text', 'label'],\n",
       "        num_rows: 100\n",
       "    })\n",
       "    validation: Dataset({\n",
       "        features: ['text', 'label'],\n",
       "        num_rows: 100\n",
       "    })\n",
       "})"
      ]
     },
     "execution_count": 6,
     "metadata": {},
     "output_type": "execute_result"
    }
   ],
   "execution_count": 6
  },
  {
   "metadata": {
    "ExecuteTime": {
     "end_time": "2024-04-21T08:39:03.980113Z",
     "start_time": "2024-04-21T08:39:03.745287Z"
    }
   },
   "cell_type": "code",
   "source": [
    "\"\"\"\n",
    "# DEPRECATED \n",
    "# imports needed for retraining \n",
    "from transformers import AutoTokenizer\n",
    "from transformers import TrainingArguments, Trainer\n",
    "import numpy as np\n",
    "import evaluate\n",
    "import torch\n",
    "\n",
    "torch.cuda.empty_cache()\n",
    "\n",
    "\n",
    "tokenizer = AutoTokenizer.from_pretrained(\"unhcr/hatespeech-detection\")\n",
    "model = AutoModelForSequenceClassification.from_pretrained(\"unhcr/hatespeech-detection\")\n",
    "\n",
    "def tokenize_function(examples):\n",
    "    return tokenizer(examples[\"text\"], padding=\"max_length\", truncation=True)\n",
    "\n",
    "def compute_metrics(eval_pred):\n",
    "    logits, labels = eval_pred\n",
    "    predictions = np.argmax(logits, axis=-1)\n",
    "    return metric.compute(predictions=predictions, references=labels)\n",
    "\n",
    "tokenized_datasets = hate_dataset_dict.map(tokenize_function, batched=True)\n",
    "training_args = TrainingArguments(output_dir=\"test_trainer\", num_train_epochs=15)\n",
    "metric = evaluate.load(\"accuracy\")\n",
    "\n",
    "training_args = TrainingArguments(output_dir=\"test_trainer\", \n",
    "                                  evaluation_strategy=\"epoch\")\n",
    "\n",
    "small_train_dataset = tokenized_datasets[\"train\"].shuffle(seed=42).select(range(10))\n",
    "small_eval_dataset = tokenized_datasets[\"validation\"].shuffle(seed=42).select(range(10))\n",
    "\n",
    "trainer = Trainer(\n",
    "    model=model,\n",
    "    args=training_args,\n",
    "    train_dataset=small_train_dataset,\n",
    "    eval_dataset=small_eval_dataset,\n",
    "    compute_metrics=compute_metrics,\n",
    ")\n",
    "trainer.train()\n",
    "trainer.predict()\n",
    "\"\"\";"
   ],
   "id": "7091aa3e5aea9ce7",
   "outputs": [],
   "execution_count": 7
  },
  {
   "metadata": {
    "ExecuteTime": {
     "end_time": "2024-04-21T08:39:03.984744Z",
     "start_time": "2024-04-21T08:39:03.981463Z"
    }
   },
   "cell_type": "code",
   "source": "",
   "id": "c912818fb5e3bc99",
   "outputs": [],
   "execution_count": 7
  },
  {
   "metadata": {
    "ExecuteTime": {
     "end_time": "2024-04-21T08:39:03.989667Z",
     "start_time": "2024-04-21T08:39:03.985752Z"
    }
   },
   "cell_type": "code",
   "source": "",
   "id": "149272a9e83cc9bf",
   "outputs": [],
   "execution_count": 7
  },
  {
   "metadata": {},
   "cell_type": "markdown",
   "source": "## IMSyPP model",
   "id": "7acc6b9bd773c585"
  },
  {
   "metadata": {
    "ExecuteTime": {
     "end_time": "2024-04-21T08:43:39.661606Z",
     "start_time": "2024-04-21T08:39:03.990674Z"
    }
   },
   "cell_type": "code",
   "source": [
    "%%time\n",
    "model_name_pp = \"IMSyPP/hate_speech_en\"\n",
    "# Load model directly\n",
    "# tokenizer_pp = AutoTokenizer.from_pretrained(model_name_pp)\n",
    "# model_pp = AutoModelForSequenceClassification.from_pretrained(model_name_pp)\n",
    "# model = AutoModelForSequenceClassification.from_pretrained(model_name_pp, um_labels=3,  ignore_mismatched_sizes=True)\n",
    "\n",
    "# Use a pipeline as a high-level helper\n",
    "pipe = pipeline(\"text-classification\", model=model_name_pp, device=\"cuda:0\")  # \n",
    "\n",
    "test_df_modified = list(preprocess_text(test_df[\"text\"]).values)\n",
    "y_pred_pp = pipe(test_df_modified)"
   ],
   "id": "bf2d62af1e05d2c2",
   "outputs": [
    {
     "name": "stdout",
     "output_type": "stream",
     "text": [
      "CPU times: total: 3min 21s\n",
      "Wall time: 4min 35s\n"
     ]
    }
   ],
   "execution_count": 8
  },
  {
   "metadata": {
    "ExecuteTime": {
     "end_time": "2024-04-21T08:43:39.666187Z",
     "start_time": "2024-04-21T08:43:39.662657Z"
    }
   },
   "cell_type": "code",
   "source": "",
   "id": "866ca04d520facf7",
   "outputs": [],
   "execution_count": 8
  },
  {
   "metadata": {
    "ExecuteTime": {
     "end_time": "2024-04-21T08:43:39.990621Z",
     "start_time": "2024-04-21T08:43:39.667748Z"
    }
   },
   "cell_type": "code",
   "source": [
    "def map_predicted_to_label_hatesv2_pp(y_pred):\n",
    "    y_pred_mapped = []\n",
    "    for json_pair in y_pred:\n",
    "        if json_pair[\"label\"] == \"LABEL_0\":\n",
    "            y_pred_mapped.append(0)\n",
    "        elif json_pair[\"label\"] == \"LABEL_1\":\n",
    "            y_pred_mapped.append(0)\n",
    "        elif json_pair[\"label\"] == \"LABEL_2\":\n",
    "            y_pred_mapped.append(1)\n",
    "        elif json_pair[\"label\"] == \"LABEL_3\":\n",
    "            y_pred_mapped.append(2)\n",
    "    return y_pred_mapped\n",
    "\n",
    "y_pred_pp_v2 = map_predicted_to_label_hatesv2_pp(y_pred_pp)"
   ],
   "id": "d02691f595672114",
   "outputs": [],
   "execution_count": 9
  },
  {
   "metadata": {
    "ExecuteTime": {
     "end_time": "2024-04-21T08:43:40.369014Z",
     "start_time": "2024-04-21T08:43:39.994630Z"
    }
   },
   "cell_type": "code",
   "source": [
    "from sklearn.metrics import classification_report\n",
    "\n",
    "y_truth = test_df[\"label\"]\n",
    "print(classification_report(y_truth, y_pred_pp_v2, digits=3))"
   ],
   "id": "328fe7d140f7f65e",
   "outputs": [
    {
     "name": "stdout",
     "output_type": "stream",
     "text": [
      "              precision    recall  f1-score   support\n",
      "\n",
      "           0      0.932     0.846     0.887     10873\n",
      "           1      0.524     0.757     0.619      2520\n",
      "           2      0.105     0.067     0.082       327\n",
      "\n",
      "    accuracy                          0.811     13720\n",
      "   macro avg      0.520     0.557     0.529     13720\n",
      "weighted avg      0.837     0.811     0.818     13720\n",
      "\n"
     ]
    }
   ],
   "execution_count": 10
  },
  {
   "metadata": {
    "ExecuteTime": {
     "end_time": "2024-04-21T08:43:40.375501Z",
     "start_time": "2024-04-21T08:43:40.371023Z"
    }
   },
   "cell_type": "code",
   "source": "",
   "id": "b764bbd04ddca635",
   "outputs": [],
   "execution_count": 10
  }
 ],
 "metadata": {
  "kernelspec": {
   "display_name": "Python 3",
   "language": "python",
   "name": "python3"
  },
  "language_info": {
   "codemirror_mode": {
    "name": "ipython",
    "version": 2
   },
   "file_extension": ".py",
   "mimetype": "text/x-python",
   "name": "python",
   "nbconvert_exporter": "python",
   "pygments_lexer": "ipython2",
   "version": "2.7.6"
  }
 },
 "nbformat": 4,
 "nbformat_minor": 5
}
