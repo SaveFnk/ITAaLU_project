{
 "cells": [
  {
   "metadata": {},
   "cell_type": "markdown",
   "source": "## UNHR",
   "id": "cc9849d054d3a0a9"
  },
  {
   "metadata": {},
   "cell_type": "code",
   "source": [
    "%load_ext autoreload\n",
    "%autoreload 2\n",
    "\n",
    "from transformers import AutoTokenizer, AutoModelForSequenceClassification\n",
    "from transformers import pipeline\n",
    "import tqdm\n",
    "import os\n",
    "import pandas as pd\n",
    "\n",
    "\n",
    "from src.preprocessing.hatespeech_dataset_querying import hatespeech_v2_load_train_and_validation_set, map_predicted_to_label_hatesv2, hatespeech_v2_load_test_set\n",
    "from src.preprocessing.toxigen_querying import load_toxigen_train_and_validation\n",
    "\n",
    "try:\n",
    "    print(run_only_once)\n",
    "except Exception as e:\n",
    "    print(os.getcwd())\n",
    "    os.chdir(\"./../..\")\n",
    "    print(os.getcwd())\n",
    "    run_only_once = \"Dir has already been changed\"## UNHR"
   ],
   "id": "40897b66ef4a657a",
   "outputs": [],
   "execution_count": null
  },
  {
   "metadata": {},
   "cell_type": "code",
   "source": [
    "train_df, validation_df = hatespeech_v2_load_train_and_validation_set()\n",
    "test_df = hatespeech_v2_load_test_set()\n",
    "print(len(test_df))"
   ],
   "id": "81f0dece650dacd7",
   "outputs": [],
   "execution_count": null
  },
  {
   "metadata": {},
   "cell_type": "code",
   "source": [
    "%%time\n",
    "from src.preprocessing.general_preproc import preprocess_text\n",
    "\n",
    "\n",
    "tokenizer = AutoTokenizer.from_pretrained(\"unhcr/hatespeech-detection\")\n",
    "model = AutoModelForSequenceClassification.from_pretrained(\"unhcr/hatespeech-detection\")\n",
    "# Use a pipeline as a high-level helper\n",
    "pipe = pipeline(\"text-classification\", model=\"unhcr/hatespeech-detection\", device=\"cuda:0\")  # "
   ],
   "id": "1b6d7b50e4e8806f",
   "outputs": [],
   "execution_count": null
  },
  {
   "metadata": {},
   "cell_type": "code",
   "source": [
    "%%time\n",
    "test_df_modified = list(preprocess_text(test_df[\"text\"]).values)\n",
    "y_pred = pipe(test_df_modified)"
   ],
   "id": "e53d4742b7e05484",
   "outputs": [],
   "execution_count": null
  },
  {
   "metadata": {},
   "cell_type": "code",
   "source": [
    "from sklearn.metrics import classification_report\n",
    "# tokenizer.to(\"cuda:0\")\n",
    "y_truth = test_df[\"label\"]\n",
    "mapped_pred = map_predicted_to_label_hatesv2(y_pred)\n",
    "\n",
    "print(classification_report(y_truth, mapped_pred))"
   ],
   "id": "f9a675b2aa8cbf20",
   "outputs": [],
   "execution_count": null
  },
  {
   "metadata": {},
   "cell_type": "code",
   "source": "",
   "id": "7079d45852d9b023",
   "outputs": [],
   "execution_count": null
  },
  {
   "metadata": {},
   "cell_type": "markdown",
   "source": "## Retraining the whole model for our dataset",
   "id": "f3c00968a4c6d27d"
  },
  {
   "metadata": {},
   "cell_type": "code",
   "source": [
    "# prepare the dataset in the correct format\n",
    "import datasets\n",
    "\n",
    "def convert_train_and_validation_to_dataset(train_df, validation_df):\n",
    "    train_dataset = datasets.Dataset.from_pandas(df=train_df.iloc[:100], split=\"train\")\n",
    "    validation_dataset = datasets.Dataset.from_pandas(df=validation_df.iloc[:100], split=\"validation\")\n",
    "    ds = datasets.DatasetDict()\n",
    "    ds[\"train\"] = train_dataset\n",
    "    ds[\"validation\"] = validation_dataset\n",
    "    return ds\n",
    "\n",
    "hate_dataset_dict = convert_train_and_validation_to_dataset(train_df, validation_df)\n",
    "hate_dataset_dict"
   ],
   "id": "943965dd58cc3925",
   "outputs": [],
   "execution_count": null
  },
  {
   "metadata": {},
   "cell_type": "code",
   "source": [
    "\"\"\"\n",
    "# DEPRECATED \n",
    "# imports needed for retraining \n",
    "from transformers import AutoTokenizer\n",
    "from transformers import TrainingArguments, Trainer\n",
    "import numpy as np\n",
    "import evaluate\n",
    "import torch\n",
    "\n",
    "torch.cuda.empty_cache()\n",
    "\n",
    "\n",
    "tokenizer = AutoTokenizer.from_pretrained(\"unhcr/hatespeech-detection\")\n",
    "model = AutoModelForSequenceClassification.from_pretrained(\"unhcr/hatespeech-detection\")\n",
    "\n",
    "def tokenize_function(examples):\n",
    "    return tokenizer(examples[\"text\"], padding=\"max_length\", truncation=True)\n",
    "\n",
    "def compute_metrics(eval_pred):\n",
    "    logits, labels = eval_pred\n",
    "    predictions = np.argmax(logits, axis=-1)\n",
    "    return metric.compute(predictions=predictions, references=labels)\n",
    "\n",
    "tokenized_datasets = hate_dataset_dict.map(tokenize_function, batched=True)\n",
    "training_args = TrainingArguments(output_dir=\"test_trainer\", num_train_epochs=15)\n",
    "metric = evaluate.load(\"accuracy\")\n",
    "\n",
    "training_args = TrainingArguments(output_dir=\"test_trainer\", \n",
    "                                  evaluation_strategy=\"epoch\")\n",
    "\n",
    "small_train_dataset = tokenized_datasets[\"train\"].shuffle(seed=42).select(range(10))\n",
    "small_eval_dataset = tokenized_datasets[\"validation\"].shuffle(seed=42).select(range(10))\n",
    "\n",
    "trainer = Trainer(\n",
    "    model=model,\n",
    "    args=training_args,\n",
    "    train_dataset=small_train_dataset,\n",
    "    eval_dataset=small_eval_dataset,\n",
    "    compute_metrics=compute_metrics,\n",
    ")\n",
    "trainer.train()\n",
    "trainer.predict()\n",
    "\"\"\";"
   ],
   "id": "7091aa3e5aea9ce7",
   "outputs": [],
   "execution_count": null
  },
  {
   "metadata": {},
   "cell_type": "code",
   "source": "",
   "id": "c912818fb5e3bc99",
   "outputs": [],
   "execution_count": null
  },
  {
   "metadata": {},
   "cell_type": "code",
   "source": "",
   "id": "149272a9e83cc9bf",
   "outputs": [],
   "execution_count": null
  },
  {
   "metadata": {},
   "cell_type": "markdown",
   "source": "## IMSyPP model",
   "id": "7acc6b9bd773c585"
  },
  {
   "metadata": {},
   "cell_type": "code",
   "source": [
    "%%time\n",
    "model_name_pp = \"IMSyPP/hate_speech_en\"\n",
    "# Load model directly\n",
    "# tokenizer_pp = AutoTokenizer.from_pretrained(model_name_pp)\n",
    "# model_pp = AutoModelForSequenceClassification.from_pretrained(model_name_pp)\n",
    "\n",
    "# Use a pipeline as a high-level helper\n",
    "pipe = pipeline(\"text-classification\", model=model_name_pp, device=\"cuda:0\")  # \n",
    "\n",
    "test_df_modified = list(preprocess_text(test_df[\"text\"]).values)\n",
    "y_pred_pp = pipe(test_df_modified)"
   ],
   "id": "bf2d62af1e05d2c2",
   "outputs": [],
   "execution_count": null
  },
  {
   "metadata": {},
   "cell_type": "code",
   "source": "",
   "id": "866ca04d520facf7",
   "outputs": [],
   "execution_count": null
  },
  {
   "metadata": {},
   "cell_type": "code",
   "source": [
    "def map_predicted_to_label_hatesv2_pp(y_pred):\n",
    "    y_pred_mapped = []\n",
    "    for json_pair in y_pred:\n",
    "        if json_pair[\"label\"] == \"LABEL_0\":\n",
    "            y_pred_mapped.append(0)\n",
    "        elif json_pair[\"label\"] == \"LABEL_1\":\n",
    "            y_pred_mapped.append(0)\n",
    "        elif json_pair[\"label\"] == \"LABEL_2\":\n",
    "            y_pred_mapped.append(1)\n",
    "        elif json_pair[\"label\"] == \"LABEL_3\":\n",
    "            y_pred_mapped.append(2)\n",
    "    return y_pred_mapped\n",
    "\n",
    "y_pred_pp = map_predicted_to_label_hatesv2_pp(y_pred)"
   ],
   "id": "d02691f595672114",
   "outputs": [],
   "execution_count": null
  },
  {
   "metadata": {},
   "cell_type": "code",
   "source": [
    "from sklearn.metrics import classification_report\n",
    "\n",
    "y_truth = test_df[\"label\"]\n",
    "print(classification_report(y_truth, y_pred_pp))"
   ],
   "id": "328fe7d140f7f65e",
   "outputs": [],
   "execution_count": null
  },
  {
   "metadata": {},
   "cell_type": "code",
   "source": "",
   "id": "b764bbd04ddca635",
   "outputs": [],
   "execution_count": null
  }
 ],
 "metadata": {
  "kernelspec": {
   "display_name": "Python 3",
   "language": "python",
   "name": "python3"
  },
  "language_info": {
   "codemirror_mode": {
    "name": "ipython",
    "version": 2
   },
   "file_extension": ".py",
   "mimetype": "text/x-python",
   "name": "python",
   "nbconvert_exporter": "python",
   "pygments_lexer": "ipython2",
   "version": "2.7.6"
  }
 },
 "nbformat": 4,
 "nbformat_minor": 5
}
