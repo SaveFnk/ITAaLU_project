{
 "cells": [
  {
   "cell_type": "code",
   "id": "initial_id",
   "metadata": {
    "collapsed": true
   },
   "source": [
    "import pandas as pd\n",
    "\n",
    "\n",
    "\n",
    "df = pd.read_csv('../../data/hatespeech_v2/Toraman22_hate_speech_v2.tsv', sep='\\t')\n",
    "start_size = df.shape[0]\n",
    "\n",
    "\n",
    "\n",
    "df = df[df['language'] == 1]\n",
    "#mantain oly the column: tweet_id label text\n",
    "df = df[['tweet_id', 'label', 'text']]\n",
    "#remove the rows with label = 'none' and text = 'none'\n",
    "end_size = df.shape[0]\n",
    "\n",
    "print(f'From {start_size} to {end_size} rows')\n",
    "\n",
    "df.head()"
   ],
   "outputs": [],
   "execution_count": null
  },
  {
   "metadata": {},
   "cell_type": "code",
   "source": "",
   "id": "5a52d9b5da27a88d",
   "outputs": [],
   "execution_count": null
  },
  {
   "metadata": {},
   "cell_type": "code",
   "source": [
    "df2 = pd.read_csv('../../Dataset/hatespeech_v2/hate_speech_dataset_v2.csv')\n",
    "\n",
    "\n",
    "df2 = df2[df2['LangID'] == 1]\n",
    "\n",
    "start_size2 = df.shape[0]\n",
    "\n",
    "print(f'From {start_size2}')\n",
    "df2.head()\n"
   ],
   "id": "b5985980cd8a308d",
   "outputs": [],
   "execution_count": null
  },
  {
   "metadata": {},
   "cell_type": "code",
   "source": [
    "#fird all the TweetID that are not in the tweet_id colum\n",
    "print(df.shape[0])\n",
    "print(df2.shape[0])\n",
    "\n",
    "#gather together the two dataframes if the TweetID is in the tweet_id column with a left join\n",
    "df3 = pd.merge(df2, df, left_on='TweetID', right_on='tweet_id', how='left')\n",
    "\n",
    "#df3 = df2[df2['TweetID'].isin(df['tweet_id'])]\n",
    "#drop the rows with NaN values and duplicates\n",
    "\n",
    "df3 = df3.drop_duplicates(subset=['TweetID'])\n",
    "\n",
    "print(df3.shape[0])"
   ],
   "id": "46cf54d5866e34c3",
   "outputs": [],
   "execution_count": null
  },
  {
   "metadata": {},
   "cell_type": "code",
   "source": "",
   "id": "edaa7a66e48e2b6",
   "outputs": [],
   "execution_count": null
  },
  {
   "metadata": {},
   "cell_type": "code",
   "source": "",
   "id": "6638fc6e1b2a03fc",
   "outputs": [],
   "execution_count": null
  }
 ],
 "metadata": {
  "kernelspec": {
   "display_name": "Python 3",
   "language": "python",
   "name": "python3"
  },
  "language_info": {
   "codemirror_mode": {
    "name": "ipython",
    "version": 2
   },
   "file_extension": ".py",
   "mimetype": "text/x-python",
   "name": "python",
   "nbconvert_exporter": "python",
   "pygments_lexer": "ipython2",
   "version": "2.7.6"
  }
 },
 "nbformat": 4,
 "nbformat_minor": 5
}
