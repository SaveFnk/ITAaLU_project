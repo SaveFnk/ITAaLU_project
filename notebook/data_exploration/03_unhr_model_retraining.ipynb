{
 "cells": [
  {
   "metadata": {},
   "cell_type": "markdown",
   "source": "## UNHR",
   "id": "cc9849d054d3a0a9"
  },
  {
   "metadata": {},
   "cell_type": "code",
   "source": [
    "%load_ext autoreload\n",
    "%autoreload 2\n",
    "\n",
    "from transformers import AutoTokenizer, AutoModelForSequenceClassification\n",
    "from transformers import pipeline\n",
    "import tqdm\n",
    "import os\n",
    "import pandas as pd\n",
    "\n",
    "\n",
    "from src.preprocessing.hatespeech_dataset_querying import hatespeech_v2_load_train_and_validation_set, map_predicted_to_label_hatesv2\n",
    "from src.preprocessing.toxigen_querying import load_toxigen_train_and_validation\n",
    "\n",
    "try:\n",
    "    print(run_only_once)\n",
    "except Exception as e:\n",
    "    print(os.getcwd())\n",
    "    os.chdir(\"./../..\")\n",
    "    print(os.getcwd())\n",
    "    run_only_once = \"Dir has already been changed\"## UNHR"
   ],
   "id": "40897b66ef4a657a",
   "outputs": [],
   "execution_count": null
  },
  {
   "metadata": {},
   "cell_type": "code",
   "source": [
    "train_df, validation_df = hatespeech_v2_load_train_and_validation_set()\n",
    "train_df"
   ],
   "id": "81f0dece650dacd7",
   "outputs": [],
   "execution_count": null
  },
  {
   "metadata": {},
   "cell_type": "code",
   "source": [
    "%%time\n",
    "\n",
    "tokenizer = AutoTokenizer.from_pretrained(\"unhcr/hatespeech-detection\")\n",
    "model = AutoModelForSequenceClassification.from_pretrained(\"unhcr/hatespeech-detection\")\n",
    "# Use a pipeline as a high-level helper\n",
    "pipe = pipeline(\"text-classification\", model=\"unhcr/hatespeech-detection\", device=\"cuda:0\")  # \n",
    "\n",
    "y_pred = pipe(list(train_df[\"text\"].values))"
   ],
   "id": "93a37fc012042e0a",
   "outputs": [],
   "execution_count": null
  },
  {
   "metadata": {},
   "cell_type": "code",
   "source": [
    "from sklearn.metrics import classification_report\n",
    "\n",
    "y_truth = train_df[\"label\"]\n",
    "mapped_pred = map_predicted_to_label_hatesv2(y_pred)\n",
    "\n",
    "print(classification_report(y_truth, mapped_pred))"
   ],
   "id": "f9a675b2aa8cbf20",
   "outputs": [],
   "execution_count": null
  },
  {
   "metadata": {},
   "cell_type": "code",
   "source": "# y_pred",
   "id": "7079d45852d9b023",
   "outputs": [],
   "execution_count": null
  },
  {
   "metadata": {},
   "cell_type": "markdown",
   "source": "## Retraining the whole model for our dataset",
   "id": "f3c00968a4c6d27d"
  },
  {
   "metadata": {},
   "cell_type": "code",
   "source": [
    "# prepare the dataset in the correct format\n",
    "import datasets\n",
    "\n",
    "def convert_train_and_validation_to_dataset(train_df, validation_df):\n",
    "    train_dataset = datasets.Dataset.from_pandas(df=train_df.iloc[:100], split=\"train\")\n",
    "    validation_dataset = datasets.Dataset.from_pandas(df=validation_df.iloc[:100], split=\"validation\")\n",
    "    ds = datasets.DatasetDict()\n",
    "    ds[\"train\"] = train_dataset\n",
    "    ds[\"validation\"] = validation_dataset\n",
    "    return ds\n",
    "\n",
    "hate_dataset_dict = convert_train_and_validation_to_dataset(train_df, validation_df)\n",
    "hate_dataset_dict"
   ],
   "id": "943965dd58cc3925",
   "outputs": [],
   "execution_count": null
  },
  {
   "metadata": {},
   "cell_type": "code",
   "source": [
    "# imports needed for retraining \n",
    "from transformers import AutoTokenizer\n",
    "from transformers import TrainingArguments, Trainer\n",
    "import numpy as np\n",
    "import evaluate\n",
    "import torch\n",
    "\n",
    "torch.cuda.empty_cache()"
   ],
   "id": "7091aa3e5aea9ce7",
   "outputs": [],
   "execution_count": null
  },
  {
   "metadata": {},
   "cell_type": "code",
   "source": [
    "tokenizer = AutoTokenizer.from_pretrained(\"unhcr/hatespeech-detection\")\n",
    "model = AutoModelForSequenceClassification.from_pretrained(\"unhcr/hatespeech-detection\")\n",
    "\n",
    "def tokenize_function(examples):\n",
    "    return tokenizer(examples[\"text\"], padding=\"max_length\", truncation=True)\n",
    "\n",
    "def compute_metrics(eval_pred):\n",
    "    logits, labels = eval_pred\n",
    "    predictions = np.argmax(logits, axis=-1)\n",
    "    return metric.compute(predictions=predictions, references=labels)\n",
    "\n",
    "tokenized_datasets = hate_dataset_dict.map(tokenize_function, batched=True)\n",
    "training_args = TrainingArguments(output_dir=\"test_trainer\")\n",
    "metric = evaluate.load(\"accuracy\")"
   ],
   "id": "c912818fb5e3bc99",
   "outputs": [],
   "execution_count": null
  },
  {
   "metadata": {},
   "cell_type": "code",
   "source": [
    "training_args = TrainingArguments(output_dir=\"test_trainer\", \n",
    "                                  evaluation_strategy=\"epoch\")\n",
    "\n",
    "small_train_dataset = tokenized_datasets[\"train\"].shuffle(seed=42).select(range(10))\n",
    "small_eval_dataset = tokenized_datasets[\"validation\"].shuffle(seed=42).select(range(10))\n",
    "\n",
    "trainer = Trainer(\n",
    "    model=model,\n",
    "    args=training_args,\n",
    "    train_dataset=small_train_dataset,\n",
    "    eval_dataset=small_eval_dataset,\n",
    "    compute_metrics=compute_metrics,\n",
    ")\n",
    "trainer.train()"
   ],
   "id": "149272a9e83cc9bf",
   "outputs": [],
   "execution_count": null
  },
  {
   "metadata": {},
   "cell_type": "code",
   "source": "",
   "id": "f59dc7c5f5c89418",
   "outputs": [],
   "execution_count": null
  }
 ],
 "metadata": {
  "kernelspec": {
   "display_name": "Python 3",
   "language": "python",
   "name": "python3"
  },
  "language_info": {
   "codemirror_mode": {
    "name": "ipython",
    "version": 2
   },
   "file_extension": ".py",
   "mimetype": "text/x-python",
   "name": "python",
   "nbconvert_exporter": "python",
   "pygments_lexer": "ipython2",
   "version": "2.7.6"
  }
 },
 "nbformat": 4,
 "nbformat_minor": 5
}
