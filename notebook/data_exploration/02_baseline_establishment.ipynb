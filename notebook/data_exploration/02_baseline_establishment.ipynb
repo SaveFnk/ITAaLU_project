{
 "cells": [
  {
   "metadata": {},
   "cell_type": "markdown",
   "source": [
    "## Establishing a baseline\n",
    "\n",
    "For the project we needed to establish a baseline to compare our results to. We achieve this on both Hate speech version two dataset, and the Toxify dataset."
   ],
   "id": "6fbec40a028e1d77"
  },
  {
   "metadata": {
    "ExecuteTime": {
     "end_time": "2024-04-18T11:26:52.660979Z",
     "start_time": "2024-04-18T11:26:52.553984Z"
    }
   },
   "cell_type": "code",
   "source": [
    "%load_ext autoreload\n",
    "%autoreload 2\n",
    "\n",
    "import os\n",
    "import pandas as pd\n",
    "from src.preprocessing.hatespeech_dataset_querying import hatespeech_v2_load_train_and_validation_set\n",
    "\n",
    "try:\n",
    "    print(run_only_once)\n",
    "except Exception as e:\n",
    "    print(os.getcwd())\n",
    "    os.chdir(\"./../..\")\n",
    "    print(os.getcwd())\n",
    "    run_only_once = \"Dir has already been changed\""
   ],
   "id": "786c9974cddc28dd",
   "outputs": [
    {
     "name": "stdout",
     "output_type": "stream",
     "text": [
      "The autoreload extension is already loaded. To reload it, use:\n",
      "  %reload_ext autoreload\n",
      "Dir has already been changed\n"
     ]
    }
   ],
   "execution_count": 12
  },
  {
   "metadata": {},
   "cell_type": "markdown",
   "source": "## Hate speech version 2",
   "id": "f4147262d3900241"
  },
  {
   "metadata": {
    "ExecuteTime": {
     "end_time": "2024-04-18T11:26:53.269462Z",
     "start_time": "2024-04-18T11:26:52.660979Z"
    }
   },
   "cell_type": "code",
   "source": [
    "train_df, validation_df = hatespeech_v2_load_train_and_validation_set()\n",
    "train_df"
   ],
   "id": "3fd1adb513c728a2",
   "outputs": [
    {
     "data": {
      "text/plain": [
       "                  tweet_id                                               text  \\\n",
       "0      1376967244706553858  Father Brennan : When the Jews return to Zion,...   \n",
       "1      1344315766594707456  On December 30, 1767, in Savannah, Georgia, sl...   \n",
       "2      1233898243731251201  Russian hackers are still going to be a huge p...   \n",
       "3      1277958772116254721  Let me be clear whatever you have to say about...   \n",
       "4      1344535608018886657  In dorana district of Mp hindutava organizatio...   \n",
       "...                    ...                                                ...   \n",
       "43896  1377295513238732803  Intention to create fear for social/political ...   \n",
       "43897  1277277939093078016  A wise person from my country of historic orig...   \n",
       "43898  1344604336572215296  \"Remember Jesus Christ, risen from the dead, d...   \n",
       "43899  1277988673812754432  honestly this shit pisses me off and is just s...   \n",
       "43900  1277387856760233986  I start soccer on Wednesday 🥺❤️ just waiting o...   \n",
       "\n",
       "       label topic  \n",
       "0          0   0.0  \n",
       "1          0   2.0  \n",
       "2          0   2.0  \n",
       "3          1   4.0  \n",
       "4          0   0.0  \n",
       "...      ...   ...  \n",
       "43896      0   2.0  \n",
       "43897      1   0.0  \n",
       "43898      0   0.0  \n",
       "43899      1   3.0  \n",
       "43900      1   4.0  \n",
       "\n",
       "[43901 rows x 4 columns]"
      ],
      "text/html": [
       "<div>\n",
       "<style scoped>\n",
       "    .dataframe tbody tr th:only-of-type {\n",
       "        vertical-align: middle;\n",
       "    }\n",
       "\n",
       "    .dataframe tbody tr th {\n",
       "        vertical-align: top;\n",
       "    }\n",
       "\n",
       "    .dataframe thead th {\n",
       "        text-align: right;\n",
       "    }\n",
       "</style>\n",
       "<table border=\"1\" class=\"dataframe\">\n",
       "  <thead>\n",
       "    <tr style=\"text-align: right;\">\n",
       "      <th></th>\n",
       "      <th>tweet_id</th>\n",
       "      <th>text</th>\n",
       "      <th>label</th>\n",
       "      <th>topic</th>\n",
       "    </tr>\n",
       "  </thead>\n",
       "  <tbody>\n",
       "    <tr>\n",
       "      <th>0</th>\n",
       "      <td>1376967244706553858</td>\n",
       "      <td>Father Brennan : When the Jews return to Zion,...</td>\n",
       "      <td>0</td>\n",
       "      <td>0.0</td>\n",
       "    </tr>\n",
       "    <tr>\n",
       "      <th>1</th>\n",
       "      <td>1344315766594707456</td>\n",
       "      <td>On December 30, 1767, in Savannah, Georgia, sl...</td>\n",
       "      <td>0</td>\n",
       "      <td>2.0</td>\n",
       "    </tr>\n",
       "    <tr>\n",
       "      <th>2</th>\n",
       "      <td>1233898243731251201</td>\n",
       "      <td>Russian hackers are still going to be a huge p...</td>\n",
       "      <td>0</td>\n",
       "      <td>2.0</td>\n",
       "    </tr>\n",
       "    <tr>\n",
       "      <th>3</th>\n",
       "      <td>1277958772116254721</td>\n",
       "      <td>Let me be clear whatever you have to say about...</td>\n",
       "      <td>1</td>\n",
       "      <td>4.0</td>\n",
       "    </tr>\n",
       "    <tr>\n",
       "      <th>4</th>\n",
       "      <td>1344535608018886657</td>\n",
       "      <td>In dorana district of Mp hindutava organizatio...</td>\n",
       "      <td>0</td>\n",
       "      <td>0.0</td>\n",
       "    </tr>\n",
       "    <tr>\n",
       "      <th>...</th>\n",
       "      <td>...</td>\n",
       "      <td>...</td>\n",
       "      <td>...</td>\n",
       "      <td>...</td>\n",
       "    </tr>\n",
       "    <tr>\n",
       "      <th>43896</th>\n",
       "      <td>1377295513238732803</td>\n",
       "      <td>Intention to create fear for social/political ...</td>\n",
       "      <td>0</td>\n",
       "      <td>2.0</td>\n",
       "    </tr>\n",
       "    <tr>\n",
       "      <th>43897</th>\n",
       "      <td>1277277939093078016</td>\n",
       "      <td>A wise person from my country of historic orig...</td>\n",
       "      <td>1</td>\n",
       "      <td>0.0</td>\n",
       "    </tr>\n",
       "    <tr>\n",
       "      <th>43898</th>\n",
       "      <td>1344604336572215296</td>\n",
       "      <td>\"Remember Jesus Christ, risen from the dead, d...</td>\n",
       "      <td>0</td>\n",
       "      <td>0.0</td>\n",
       "    </tr>\n",
       "    <tr>\n",
       "      <th>43899</th>\n",
       "      <td>1277988673812754432</td>\n",
       "      <td>honestly this shit pisses me off and is just s...</td>\n",
       "      <td>1</td>\n",
       "      <td>3.0</td>\n",
       "    </tr>\n",
       "    <tr>\n",
       "      <th>43900</th>\n",
       "      <td>1277387856760233986</td>\n",
       "      <td>I start soccer on Wednesday 🥺❤️ just waiting o...</td>\n",
       "      <td>1</td>\n",
       "      <td>4.0</td>\n",
       "    </tr>\n",
       "  </tbody>\n",
       "</table>\n",
       "<p>43901 rows × 4 columns</p>\n",
       "</div>"
      ]
     },
     "execution_count": 13,
     "metadata": {},
     "output_type": "execute_result"
    }
   ],
   "execution_count": 13
  },
  {
   "metadata": {
    "ExecuteTime": {
     "end_time": "2024-04-18T11:26:53.373313Z",
     "start_time": "2024-04-18T11:26:53.269462Z"
    }
   },
   "cell_type": "code",
   "source": [
    "def print_label_counts(df):\n",
    "    ## predicting the majority label \n",
    "    label_distribution = df[\"label\"].value_counts().to_frame().reset_index() \n",
    "    label_distribution[\"count\"] = label_distribution[\"count\"] / len(df.index) * 100\n",
    "    \n",
    "    for index, row in label_distribution.iterrows():\n",
    "        print(f\"Label in the dataset is '{row['label']}' comprising {row['count']:.2f}% of the dataset.\")\n",
    "        \n",
    "print_label_counts(train_df)"
   ],
   "id": "37492b2df3e3b235",
   "outputs": [
    {
     "name": "stdout",
     "output_type": "stream",
     "text": [
      "Label in the dataset is '0.0' comprising 78.80% of the dataset.\n",
      "Label in the dataset is '1.0' comprising 18.81% of the dataset.\n",
      "Label in the dataset is '2.0' comprising 2.38% of the dataset.\n"
     ]
    }
   ],
   "execution_count": 14
  },
  {
   "metadata": {},
   "cell_type": "markdown",
   "source": "We can see that the majority of data in the Hate speech version 2 dataset, is labeled as non-offensive -> Normal, with this class representing 78.80% of the data points. So a model that would always predict this, can achieve the minimum accuracy of this. ",
   "id": "40d647988e43e4f8"
  },
  {
   "metadata": {
    "ExecuteTime": {
     "end_time": "2024-04-18T11:26:53.488681Z",
     "start_time": "2024-04-18T11:26:53.373313Z"
    }
   },
   "cell_type": "code",
   "source": [
    "from sklearn.metrics import classification_report, accuracy_score\n",
    "\n",
    "def get_baseline_predictions(validation_df_):\n",
    "    y_baseline_pred = [0] * len(validation_df_.index)\n",
    "    print(f\"Accuracy: {accuracy_score(validation_df_['label'], y_baseline_pred)}\")\n",
    "    print(f\"Classification report:\\n{classification_report(validation_df_['label'], y_baseline_pred, zero_division=1)}\")\n",
    "\n",
    "get_baseline_predictions(validation_df)"
   ],
   "id": "fbf7e337efd4f131",
   "outputs": [
    {
     "name": "stdout",
     "output_type": "stream",
     "text": [
      "Accuracy: 0.7909985422740525\n",
      "Classification report:\n",
      "              precision    recall  f1-score   support\n",
      "\n",
      "           0       0.79      1.00      0.88      8682\n",
      "           1       1.00      0.00      0.00      2050\n",
      "           2       1.00      0.00      0.00       244\n",
      "\n",
      "    accuracy                           0.79     10976\n",
      "   macro avg       0.93      0.33      0.29     10976\n",
      "weighted avg       0.83      0.79      0.70     10976\n",
      "\n"
     ]
    }
   ],
   "execution_count": 15
  },
  {
   "metadata": {},
   "cell_type": "markdown",
   "source": "Authors report they reached accuracy of 98% on the English dataset.",
   "id": "929e46c541c6ea9d"
  },
  {
   "metadata": {
    "ExecuteTime": {
     "end_time": "2024-04-18T11:26:53.492705Z",
     "start_time": "2024-04-18T11:26:53.488681Z"
    }
   },
   "cell_type": "code",
   "source": "",
   "id": "a56ad0dc2dcfc664",
   "outputs": [],
   "execution_count": 15
  },
  {
   "metadata": {},
   "cell_type": "markdown",
   "source": "# Toxify dataset",
   "id": "119b4b169519f520"
  },
  {
   "metadata": {
    "ExecuteTime": {
     "end_time": "2024-04-18T11:26:53.628400Z",
     "start_time": "2024-04-18T11:26:53.492705Z"
    }
   },
   "cell_type": "code",
   "source": [
    "from src.preprocessing.toxigen_querying import load_toxigen_train_and_validation\n",
    "\n",
    "# the b'' is present only because the text is in UTF-8 encoding\n",
    "train_df_toxi, validation_df_toxi = load_toxigen_train_and_validation()\n",
    "train_df_toxi"
   ],
   "id": "7b2ca243a08dae66",
   "outputs": [
    {
     "name": "stdout",
     "output_type": "stream",
     "text": [
      "Loaded 7168/8960 train samples and 1792/8960 validation samples\n"
     ]
    },
    {
     "data": {
      "text/plain": [
       "        label                                               text  target_group\n",
       "0        hate  b'asians are trying to take over the world wit...         asian\n",
       "1     neutral  b'i have never seen a hotter lineup in my life...       mexican\n",
       "2        hate                           b'muslims deseve to die'        muslim\n",
       "3     neutral  b'people who are deaf or hard of hearing shoul...  physical_dis\n",
       "4        hate  b\"Jews were all bad people because they're in ...        jewish\n",
       "...       ...                                                ...           ...\n",
       "7163  neutral  b\"i don't think i would be as good at math as ...       chinese\n",
       "7164     hate  b'theres a HUGE difference between many (i.e. ...        latino\n",
       "7165     hate  b'he is from china, but he looks like a white ...       chinese\n",
       "7166     hate  b'no matter what they do or how hard they try,...         black\n",
       "7167     hate  b'if a woman wears a hijab, she must be forced...        muslim\n",
       "\n",
       "[7168 rows x 3 columns]"
      ],
      "text/html": [
       "<div>\n",
       "<style scoped>\n",
       "    .dataframe tbody tr th:only-of-type {\n",
       "        vertical-align: middle;\n",
       "    }\n",
       "\n",
       "    .dataframe tbody tr th {\n",
       "        vertical-align: top;\n",
       "    }\n",
       "\n",
       "    .dataframe thead th {\n",
       "        text-align: right;\n",
       "    }\n",
       "</style>\n",
       "<table border=\"1\" class=\"dataframe\">\n",
       "  <thead>\n",
       "    <tr style=\"text-align: right;\">\n",
       "      <th></th>\n",
       "      <th>label</th>\n",
       "      <th>text</th>\n",
       "      <th>target_group</th>\n",
       "    </tr>\n",
       "  </thead>\n",
       "  <tbody>\n",
       "    <tr>\n",
       "      <th>0</th>\n",
       "      <td>hate</td>\n",
       "      <td>b'asians are trying to take over the world wit...</td>\n",
       "      <td>asian</td>\n",
       "    </tr>\n",
       "    <tr>\n",
       "      <th>1</th>\n",
       "      <td>neutral</td>\n",
       "      <td>b'i have never seen a hotter lineup in my life...</td>\n",
       "      <td>mexican</td>\n",
       "    </tr>\n",
       "    <tr>\n",
       "      <th>2</th>\n",
       "      <td>hate</td>\n",
       "      <td>b'muslims deseve to die'</td>\n",
       "      <td>muslim</td>\n",
       "    </tr>\n",
       "    <tr>\n",
       "      <th>3</th>\n",
       "      <td>neutral</td>\n",
       "      <td>b'people who are deaf or hard of hearing shoul...</td>\n",
       "      <td>physical_dis</td>\n",
       "    </tr>\n",
       "    <tr>\n",
       "      <th>4</th>\n",
       "      <td>hate</td>\n",
       "      <td>b\"Jews were all bad people because they're in ...</td>\n",
       "      <td>jewish</td>\n",
       "    </tr>\n",
       "    <tr>\n",
       "      <th>...</th>\n",
       "      <td>...</td>\n",
       "      <td>...</td>\n",
       "      <td>...</td>\n",
       "    </tr>\n",
       "    <tr>\n",
       "      <th>7163</th>\n",
       "      <td>neutral</td>\n",
       "      <td>b\"i don't think i would be as good at math as ...</td>\n",
       "      <td>chinese</td>\n",
       "    </tr>\n",
       "    <tr>\n",
       "      <th>7164</th>\n",
       "      <td>hate</td>\n",
       "      <td>b'theres a HUGE difference between many (i.e. ...</td>\n",
       "      <td>latino</td>\n",
       "    </tr>\n",
       "    <tr>\n",
       "      <th>7165</th>\n",
       "      <td>hate</td>\n",
       "      <td>b'he is from china, but he looks like a white ...</td>\n",
       "      <td>chinese</td>\n",
       "    </tr>\n",
       "    <tr>\n",
       "      <th>7166</th>\n",
       "      <td>hate</td>\n",
       "      <td>b'no matter what they do or how hard they try,...</td>\n",
       "      <td>black</td>\n",
       "    </tr>\n",
       "    <tr>\n",
       "      <th>7167</th>\n",
       "      <td>hate</td>\n",
       "      <td>b'if a woman wears a hijab, she must be forced...</td>\n",
       "      <td>muslim</td>\n",
       "    </tr>\n",
       "  </tbody>\n",
       "</table>\n",
       "<p>7168 rows × 3 columns</p>\n",
       "</div>"
      ]
     },
     "execution_count": 16,
     "metadata": {},
     "output_type": "execute_result"
    }
   ],
   "execution_count": 16
  },
  {
   "metadata": {
    "ExecuteTime": {
     "end_time": "2024-04-18T11:26:53.631979Z",
     "start_time": "2024-04-18T11:26:53.628400Z"
    }
   },
   "cell_type": "code",
   "source": "",
   "id": "94c1b7f6a54e07c3",
   "outputs": [],
   "execution_count": 16
  },
  {
   "metadata": {
    "ExecuteTime": {
     "end_time": "2024-04-18T11:26:53.735577Z",
     "start_time": "2024-04-18T11:26:53.631979Z"
    }
   },
   "cell_type": "code",
   "source": "print_label_counts(train_df_toxi)",
   "id": "28cc50d8212e727b",
   "outputs": [
    {
     "name": "stdout",
     "output_type": "stream",
     "text": [
      "Label in the dataset is 'neutral' comprising 50.10% of the dataset.\n",
      "Label in the dataset is 'hate' comprising 49.90% of the dataset.\n"
     ]
    }
   ],
   "execution_count": 17
  },
  {
   "metadata": {
    "ExecuteTime": {
     "end_time": "2024-04-18T11:26:53.836485Z",
     "start_time": "2024-04-18T11:26:53.735577Z"
    }
   },
   "cell_type": "code",
   "source": [
    "# map hate to 1, and neutral to 0\n",
    "validation_df_toxi[\"label\"] = validation_df_toxi[\"label\"].replace({\"neutral\": 0, \"hate\": 1})\n",
    "get_baseline_predictions(validation_df_toxi)"
   ],
   "id": "6c6fa7da52e86fb",
   "outputs": [
    {
     "name": "stdout",
     "output_type": "stream",
     "text": [
      "Accuracy: 0.5061383928571429\n",
      "Classification report:\n",
      "              precision    recall  f1-score   support\n",
      "\n",
      "           0       0.51      1.00      0.67       907\n",
      "           1       1.00      0.00      0.00       885\n",
      "\n",
      "    accuracy                           0.51      1792\n",
      "   macro avg       0.75      0.50      0.34      1792\n",
      "weighted avg       0.75      0.51      0.34      1792\n",
      "\n"
     ]
    },
    {
     "name": "stderr",
     "output_type": "stream",
     "text": [
      "C:\\Users\\Zan\\AppData\\Local\\Temp\\ipykernel_16956\\4119098941.py:2: FutureWarning: Downcasting behavior in `replace` is deprecated and will be removed in a future version. To retain the old behavior, explicitly call `result.infer_objects(copy=False)`. To opt-in to the future behavior, set `pd.set_option('future.no_silent_downcasting', True)`\n",
      "  validation_df_toxi[\"label\"] = validation_df_toxi[\"label\"].replace({\"neutral\": 0, \"hate\": 1})\n"
     ]
    }
   ],
   "execution_count": 18
  },
  {
   "metadata": {
    "ExecuteTime": {
     "end_time": "2024-04-18T11:26:53.840701Z",
     "start_time": "2024-04-18T11:26:53.836485Z"
    }
   },
   "cell_type": "code",
   "source": "",
   "id": "ce92d27089986241",
   "outputs": [],
   "execution_count": 18
  }
 ],
 "metadata": {
  "kernelspec": {
   "display_name": "Python 3",
   "language": "python",
   "name": "python3"
  },
  "language_info": {
   "codemirror_mode": {
    "name": "ipython",
    "version": 2
   },
   "file_extension": ".py",
   "mimetype": "text/x-python",
   "name": "python",
   "nbconvert_exporter": "python",
   "pygments_lexer": "ipython2",
   "version": "2.7.6"
  }
 },
 "nbformat": 4,
 "nbformat_minor": 5
}
