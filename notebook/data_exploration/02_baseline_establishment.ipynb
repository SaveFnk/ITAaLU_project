{
 "cells": [
  {
   "metadata": {},
   "cell_type": "markdown",
   "source": [
    "## Establishing a baseline\n",
    "\n",
    "For the project we needed to establish a baseline to compare our results to. We achieve this on both Hate speech version two dataset, and the Toxify dataset."
   ],
   "id": "6fbec40a028e1d77"
  },
  {
   "metadata": {
    "ExecuteTime": {
     "end_time": "2024-04-20T14:17:02.861862Z",
     "start_time": "2024-04-20T14:17:02.044840Z"
    }
   },
   "cell_type": "code",
   "source": [
    "%load_ext autoreload\n",
    "%autoreload 2\n",
    "\n",
    "import os\n",
    "import pandas as pd\n",
    "from src.preprocessing.hatespeech_dataset_querying import hatespeech_v2_load_train_and_validation_set\n",
    "\n",
    "try:\n",
    "    print(run_only_once)\n",
    "except Exception as e:\n",
    "    print(os.getcwd())\n",
    "    os.chdir(\"./../..\")\n",
    "    print(os.getcwd())\n",
    "    run_only_once = \"Dir has already been changed\""
   ],
   "id": "786c9974cddc28dd",
   "outputs": [
    {
     "name": "stdout",
     "output_type": "stream",
     "text": [
      "C:\\Users\\Zan\\Desktop\\NTNU\\TDT4310_Intelligent_text_analysis_language_understanding\\ITAaLU_project\\notebook\\data_exploration\n",
      "C:\\Users\\Zan\\Desktop\\NTNU\\TDT4310_Intelligent_text_analysis_language_understanding\\ITAaLU_project\n"
     ]
    }
   ],
   "execution_count": 1
  },
  {
   "metadata": {},
   "cell_type": "markdown",
   "source": "## Hate speech version 2",
   "id": "f4147262d3900241"
  },
  {
   "metadata": {
    "ExecuteTime": {
     "end_time": "2024-04-20T14:17:03.451208Z",
     "start_time": "2024-04-20T14:17:02.863385Z"
    }
   },
   "cell_type": "code",
   "source": [
    "train_df, validation_df = hatespeech_v2_load_train_and_validation_set()\n",
    "train_df"
   ],
   "id": "3fd1adb513c728a2",
   "outputs": [
    {
     "data": {
      "text/plain": [
       "                                                    text  label\n",
       "0      Father Brennan : When the Jews return to Zion,...      0\n",
       "1      On December 30, 1767, in Savannah, Georgia, sl...      0\n",
       "2      Russian hackers are still going to be a huge p...      0\n",
       "3      Let me be clear whatever you have to say about...      1\n",
       "4      In dorana district of Mp hindutava organizatio...      0\n",
       "...                                                  ...    ...\n",
       "43896  Intention to create fear for social/political ...      0\n",
       "43897  A wise person from my country of historic orig...      1\n",
       "43898  \"Remember Jesus Christ, risen from the dead, d...      0\n",
       "43899  honestly this shit pisses me off and is just s...      1\n",
       "43900  I start soccer on Wednesday 🥺❤️ just waiting o...      1\n",
       "\n",
       "[43901 rows x 2 columns]"
      ],
      "text/html": [
       "<div>\n",
       "<style scoped>\n",
       "    .dataframe tbody tr th:only-of-type {\n",
       "        vertical-align: middle;\n",
       "    }\n",
       "\n",
       "    .dataframe tbody tr th {\n",
       "        vertical-align: top;\n",
       "    }\n",
       "\n",
       "    .dataframe thead th {\n",
       "        text-align: right;\n",
       "    }\n",
       "</style>\n",
       "<table border=\"1\" class=\"dataframe\">\n",
       "  <thead>\n",
       "    <tr style=\"text-align: right;\">\n",
       "      <th></th>\n",
       "      <th>text</th>\n",
       "      <th>label</th>\n",
       "    </tr>\n",
       "  </thead>\n",
       "  <tbody>\n",
       "    <tr>\n",
       "      <th>0</th>\n",
       "      <td>Father Brennan : When the Jews return to Zion,...</td>\n",
       "      <td>0</td>\n",
       "    </tr>\n",
       "    <tr>\n",
       "      <th>1</th>\n",
       "      <td>On December 30, 1767, in Savannah, Georgia, sl...</td>\n",
       "      <td>0</td>\n",
       "    </tr>\n",
       "    <tr>\n",
       "      <th>2</th>\n",
       "      <td>Russian hackers are still going to be a huge p...</td>\n",
       "      <td>0</td>\n",
       "    </tr>\n",
       "    <tr>\n",
       "      <th>3</th>\n",
       "      <td>Let me be clear whatever you have to say about...</td>\n",
       "      <td>1</td>\n",
       "    </tr>\n",
       "    <tr>\n",
       "      <th>4</th>\n",
       "      <td>In dorana district of Mp hindutava organizatio...</td>\n",
       "      <td>0</td>\n",
       "    </tr>\n",
       "    <tr>\n",
       "      <th>...</th>\n",
       "      <td>...</td>\n",
       "      <td>...</td>\n",
       "    </tr>\n",
       "    <tr>\n",
       "      <th>43896</th>\n",
       "      <td>Intention to create fear for social/political ...</td>\n",
       "      <td>0</td>\n",
       "    </tr>\n",
       "    <tr>\n",
       "      <th>43897</th>\n",
       "      <td>A wise person from my country of historic orig...</td>\n",
       "      <td>1</td>\n",
       "    </tr>\n",
       "    <tr>\n",
       "      <th>43898</th>\n",
       "      <td>\"Remember Jesus Christ, risen from the dead, d...</td>\n",
       "      <td>0</td>\n",
       "    </tr>\n",
       "    <tr>\n",
       "      <th>43899</th>\n",
       "      <td>honestly this shit pisses me off and is just s...</td>\n",
       "      <td>1</td>\n",
       "    </tr>\n",
       "    <tr>\n",
       "      <th>43900</th>\n",
       "      <td>I start soccer on Wednesday 🥺❤️ just waiting o...</td>\n",
       "      <td>1</td>\n",
       "    </tr>\n",
       "  </tbody>\n",
       "</table>\n",
       "<p>43901 rows × 2 columns</p>\n",
       "</div>"
      ]
     },
     "execution_count": 2,
     "metadata": {},
     "output_type": "execute_result"
    }
   ],
   "execution_count": 2
  },
  {
   "metadata": {
    "ExecuteTime": {
     "end_time": "2024-04-20T14:17:03.530798Z",
     "start_time": "2024-04-20T14:17:03.453284Z"
    }
   },
   "cell_type": "code",
   "source": [
    "def print_label_counts(df):\n",
    "    ## predicting the majority label \n",
    "    label_distribution = df[\"label\"].value_counts().to_frame().reset_index() \n",
    "    label_distribution[\"count\"] = label_distribution[\"count\"] / len(df.index) * 100\n",
    "    \n",
    "    for index, row in label_distribution.iterrows():\n",
    "        print(f\"Label in the dataset is '{row['label']}' comprising {row['count']:.2f}% of the dataset.\")\n",
    "        \n",
    "print_label_counts(train_df)"
   ],
   "id": "37492b2df3e3b235",
   "outputs": [
    {
     "name": "stdout",
     "output_type": "stream",
     "text": [
      "Label in the dataset is '0.0' comprising 78.80% of the dataset.\n",
      "Label in the dataset is '1.0' comprising 18.81% of the dataset.\n",
      "Label in the dataset is '2.0' comprising 2.38% of the dataset.\n"
     ]
    }
   ],
   "execution_count": 3
  },
  {
   "metadata": {},
   "cell_type": "markdown",
   "source": "We can see that the majority of data in the Hate speech version 2 dataset, is labeled as non-offensive -> Normal, with this class representing 78.80% of the data points. So a model that would always predict this, can achieve the minimum accuracy of this. ",
   "id": "40d647988e43e4f8"
  },
  {
   "metadata": {
    "ExecuteTime": {
     "end_time": "2024-04-20T14:17:04.653325Z",
     "start_time": "2024-04-20T14:17:03.531806Z"
    }
   },
   "cell_type": "code",
   "source": [
    "from sklearn.metrics import classification_report, accuracy_score\n",
    "\n",
    "def get_baseline_predictions(validation_df_):\n",
    "    y_baseline_pred = [0] * len(validation_df_.index)\n",
    "    print(f\"Accuracy: {accuracy_score(validation_df_['label'], y_baseline_pred)}\")\n",
    "    print(f\"Classification report:\\n{classification_report(validation_df_['label'], y_baseline_pred, zero_division=1)}\")\n",
    "\n",
    "get_baseline_predictions(validation_df)"
   ],
   "id": "fbf7e337efd4f131",
   "outputs": [
    {
     "name": "stdout",
     "output_type": "stream",
     "text": [
      "Accuracy: 0.7909985422740525\n",
      "Classification report:\n",
      "              precision    recall  f1-score   support\n",
      "\n",
      "           0       0.79      1.00      0.88      8682\n",
      "           1       1.00      0.00      0.00      2050\n",
      "           2       1.00      0.00      0.00       244\n",
      "\n",
      "    accuracy                           0.79     10976\n",
      "   macro avg       0.93      0.33      0.29     10976\n",
      "weighted avg       0.83      0.79      0.70     10976\n",
      "\n"
     ]
    }
   ],
   "execution_count": 4
  },
  {
   "metadata": {},
   "cell_type": "markdown",
   "source": "Authors report they reached accuracy of 98% on the English dataset.",
   "id": "929e46c541c6ea9d"
  },
  {
   "metadata": {
    "ExecuteTime": {
     "end_time": "2024-04-20T14:17:04.659713Z",
     "start_time": "2024-04-20T14:17:04.656524Z"
    }
   },
   "cell_type": "code",
   "source": "",
   "id": "a56ad0dc2dcfc664",
   "outputs": [],
   "execution_count": 4
  },
  {
   "metadata": {},
   "cell_type": "markdown",
   "source": "# Toxigen dataset",
   "id": "119b4b169519f520"
  },
  {
   "metadata": {
    "ExecuteTime": {
     "end_time": "2024-04-20T14:17:04.837021Z",
     "start_time": "2024-04-20T14:17:04.661836Z"
    }
   },
   "cell_type": "code",
   "source": [
    "from src.preprocessing.toxigen_querying import load_toxigen_train_and_validation\n",
    "\n",
    "# the b'' is present only because the text is in UTF-8 encoding\n",
    "train_df_toxi, validation_df_toxi = load_toxigen_train_and_validation()\n",
    "train_df_toxi"
   ],
   "id": "7b2ca243a08dae66",
   "outputs": [
    {
     "name": "stdout",
     "output_type": "stream",
     "text": [
      "Loaded 7168/8960 train samples and 1792/8960 validation samples\n"
     ]
    },
    {
     "data": {
      "text/plain": [
       "        label                                               text  target_group\n",
       "0        hate  b'asians are trying to take over the world wit...         asian\n",
       "1     neutral  b'i have never seen a hotter lineup in my life...       mexican\n",
       "2        hate                           b'muslims deseve to die'        muslim\n",
       "3     neutral  b'people who are deaf or hard of hearing shoul...  physical_dis\n",
       "4        hate  b\"Jews were all bad people because they're in ...        jewish\n",
       "...       ...                                                ...           ...\n",
       "7163  neutral  b\"i don't think i would be as good at math as ...       chinese\n",
       "7164     hate  b'theres a HUGE difference between many (i.e. ...        latino\n",
       "7165     hate  b'he is from china, but he looks like a white ...       chinese\n",
       "7166     hate  b'no matter what they do or how hard they try,...         black\n",
       "7167     hate  b'if a woman wears a hijab, she must be forced...        muslim\n",
       "\n",
       "[7168 rows x 3 columns]"
      ],
      "text/html": [
       "<div>\n",
       "<style scoped>\n",
       "    .dataframe tbody tr th:only-of-type {\n",
       "        vertical-align: middle;\n",
       "    }\n",
       "\n",
       "    .dataframe tbody tr th {\n",
       "        vertical-align: top;\n",
       "    }\n",
       "\n",
       "    .dataframe thead th {\n",
       "        text-align: right;\n",
       "    }\n",
       "</style>\n",
       "<table border=\"1\" class=\"dataframe\">\n",
       "  <thead>\n",
       "    <tr style=\"text-align: right;\">\n",
       "      <th></th>\n",
       "      <th>label</th>\n",
       "      <th>text</th>\n",
       "      <th>target_group</th>\n",
       "    </tr>\n",
       "  </thead>\n",
       "  <tbody>\n",
       "    <tr>\n",
       "      <th>0</th>\n",
       "      <td>hate</td>\n",
       "      <td>b'asians are trying to take over the world wit...</td>\n",
       "      <td>asian</td>\n",
       "    </tr>\n",
       "    <tr>\n",
       "      <th>1</th>\n",
       "      <td>neutral</td>\n",
       "      <td>b'i have never seen a hotter lineup in my life...</td>\n",
       "      <td>mexican</td>\n",
       "    </tr>\n",
       "    <tr>\n",
       "      <th>2</th>\n",
       "      <td>hate</td>\n",
       "      <td>b'muslims deseve to die'</td>\n",
       "      <td>muslim</td>\n",
       "    </tr>\n",
       "    <tr>\n",
       "      <th>3</th>\n",
       "      <td>neutral</td>\n",
       "      <td>b'people who are deaf or hard of hearing shoul...</td>\n",
       "      <td>physical_dis</td>\n",
       "    </tr>\n",
       "    <tr>\n",
       "      <th>4</th>\n",
       "      <td>hate</td>\n",
       "      <td>b\"Jews were all bad people because they're in ...</td>\n",
       "      <td>jewish</td>\n",
       "    </tr>\n",
       "    <tr>\n",
       "      <th>...</th>\n",
       "      <td>...</td>\n",
       "      <td>...</td>\n",
       "      <td>...</td>\n",
       "    </tr>\n",
       "    <tr>\n",
       "      <th>7163</th>\n",
       "      <td>neutral</td>\n",
       "      <td>b\"i don't think i would be as good at math as ...</td>\n",
       "      <td>chinese</td>\n",
       "    </tr>\n",
       "    <tr>\n",
       "      <th>7164</th>\n",
       "      <td>hate</td>\n",
       "      <td>b'theres a HUGE difference between many (i.e. ...</td>\n",
       "      <td>latino</td>\n",
       "    </tr>\n",
       "    <tr>\n",
       "      <th>7165</th>\n",
       "      <td>hate</td>\n",
       "      <td>b'he is from china, but he looks like a white ...</td>\n",
       "      <td>chinese</td>\n",
       "    </tr>\n",
       "    <tr>\n",
       "      <th>7166</th>\n",
       "      <td>hate</td>\n",
       "      <td>b'no matter what they do or how hard they try,...</td>\n",
       "      <td>black</td>\n",
       "    </tr>\n",
       "    <tr>\n",
       "      <th>7167</th>\n",
       "      <td>hate</td>\n",
       "      <td>b'if a woman wears a hijab, she must be forced...</td>\n",
       "      <td>muslim</td>\n",
       "    </tr>\n",
       "  </tbody>\n",
       "</table>\n",
       "<p>7168 rows × 3 columns</p>\n",
       "</div>"
      ]
     },
     "execution_count": 5,
     "metadata": {},
     "output_type": "execute_result"
    }
   ],
   "execution_count": 5
  },
  {
   "metadata": {
    "ExecuteTime": {
     "end_time": "2024-04-20T14:17:04.844986Z",
     "start_time": "2024-04-20T14:17:04.838164Z"
    }
   },
   "cell_type": "code",
   "source": "",
   "id": "94c1b7f6a54e07c3",
   "outputs": [],
   "execution_count": 5
  },
  {
   "metadata": {
    "ExecuteTime": {
     "end_time": "2024-04-20T14:17:04.958079Z",
     "start_time": "2024-04-20T14:17:04.850187Z"
    }
   },
   "cell_type": "code",
   "source": "print_label_counts(train_df_toxi)",
   "id": "28cc50d8212e727b",
   "outputs": [
    {
     "name": "stdout",
     "output_type": "stream",
     "text": [
      "Label in the dataset is 'neutral' comprising 50.10% of the dataset.\n",
      "Label in the dataset is 'hate' comprising 49.90% of the dataset.\n"
     ]
    }
   ],
   "execution_count": 6
  },
  {
   "metadata": {
    "ExecuteTime": {
     "end_time": "2024-04-20T14:17:05.074429Z",
     "start_time": "2024-04-20T14:17:04.959144Z"
    }
   },
   "cell_type": "code",
   "source": [
    "# map hate to 1, and neutral to 0\n",
    "validation_df_toxi[\"label\"] = validation_df_toxi[\"label\"].replace({\"neutral\": 0, \"hate\": 1})\n",
    "get_baseline_predictions(validation_df_toxi)"
   ],
   "id": "6c6fa7da52e86fb",
   "outputs": [
    {
     "name": "stdout",
     "output_type": "stream",
     "text": [
      "Accuracy: 0.5061383928571429\n",
      "Classification report:\n",
      "              precision    recall  f1-score   support\n",
      "\n",
      "           0       0.51      1.00      0.67       907\n",
      "           1       1.00      0.00      0.00       885\n",
      "\n",
      "    accuracy                           0.51      1792\n",
      "   macro avg       0.75      0.50      0.34      1792\n",
      "weighted avg       0.75      0.51      0.34      1792\n",
      "\n"
     ]
    },
    {
     "name": "stderr",
     "output_type": "stream",
     "text": [
      "C:\\Users\\Zan\\AppData\\Local\\Temp\\ipykernel_9880\\4119098941.py:2: FutureWarning: Downcasting behavior in `replace` is deprecated and will be removed in a future version. To retain the old behavior, explicitly call `result.infer_objects(copy=False)`. To opt-in to the future behavior, set `pd.set_option('future.no_silent_downcasting', True)`\n",
      "  validation_df_toxi[\"label\"] = validation_df_toxi[\"label\"].replace({\"neutral\": 0, \"hate\": 1})\n"
     ]
    }
   ],
   "execution_count": 7
  },
  {
   "metadata": {},
   "cell_type": "markdown",
   "source": "## Merging toxigen data to the hate speech dataset version 2 to improve accuracy",
   "id": "4700c2209d2e919b"
  },
  {
   "metadata": {
    "ExecuteTime": {
     "end_time": "2024-04-20T14:17:05.221384Z",
     "start_time": "2024-04-20T14:17:05.075961Z"
    }
   },
   "cell_type": "code",
   "source": [
    "tox_train_m, tox_val_m = load_toxigen_train_and_validation()\n",
    "print(tox_train_m, tox_val_m )"
   ],
   "id": "22e132334248dd8e",
   "outputs": [
    {
     "name": "stdout",
     "output_type": "stream",
     "text": [
      "Loaded 7168/8960 train samples and 1792/8960 validation samples\n",
      "        label                                               text  target_group\n",
      "0        hate  b'asians are trying to take over the world wit...         asian\n",
      "1     neutral  b'i have never seen a hotter lineup in my life...       mexican\n",
      "2        hate                           b'muslims deseve to die'        muslim\n",
      "3     neutral  b'people who are deaf or hard of hearing shoul...  physical_dis\n",
      "4        hate  b\"Jews were all bad people because they're in ...        jewish\n",
      "...       ...                                                ...           ...\n",
      "7163  neutral  b\"i don't think i would be as good at math as ...       chinese\n",
      "7164     hate  b'theres a HUGE difference between many (i.e. ...        latino\n",
      "7165     hate  b'he is from china, but he looks like a white ...       chinese\n",
      "7166     hate  b'no matter what they do or how hard they try,...         black\n",
      "7167     hate  b'if a woman wears a hijab, she must be forced...        muslim\n",
      "\n",
      "[7168 rows x 3 columns]         label                                               text target_group\n",
      "7168     hate  b'if you are a white person, you should be pro...        asian\n",
      "7169     hate  b'sad women who complain about feminism and th...        black\n",
      "7170     hate  b'if you are a man and you are attracted to a ...        lgbtq\n",
      "7171  neutral  b'when we talk about race, we are talking abou...        black\n",
      "7172     hate                                    b'what a loser'  middle_east\n",
      "...       ...                                                ...          ...\n",
      "8955     hate  b'we are racist because we put them in their p...      mexican\n",
      "8956  neutral  b'in order to work with mexican rebels, i thin...      mexican\n",
      "8957     hate  b\"I'd like to thank you.. I don't think I'd ha...        women\n",
      "8958     hate                   b'have you had your medication?'  middle_east\n",
      "8959     hate  b'we are the ones who came to this country and...      mexican\n",
      "\n",
      "[1792 rows x 3 columns]\n"
     ]
    }
   ],
   "execution_count": 8
  },
  {
   "metadata": {
    "ExecuteTime": {
     "end_time": "2024-04-20T14:17:05.328848Z",
     "start_time": "2024-04-20T14:17:05.222907Z"
    }
   },
   "cell_type": "code",
   "source": [
    "# frames = [tox_train_m, tox_val_m ]\n",
    "# result = pd.concat(frames)[[\"text\", \"label\"]]\n",
    "# result"
   ],
   "id": "11705ffad0eab2dc",
   "outputs": [],
   "execution_count": 9
  },
  {
   "metadata": {
    "ExecuteTime": {
     "end_time": "2024-04-20T14:17:07.504228Z",
     "start_time": "2024-04-20T14:17:05.329858Z"
    }
   },
   "cell_type": "code",
   "source": [
    "toxigen_large = pd.read_csv(\"./data/toxigen/toxigen.csv\")\n",
    "toxigen_large = toxigen_large[[\"generation\", \"prompt_label\"]]\n",
    "toxigen_large.columns = [\"text\", \"label\"]\n",
    "\n",
    "# replace 1 with 2, since 2 in hate speech dataset is the label for hate\n",
    "toxigen_large[\"label\"] = toxigen_large[\"label\"].replace({1: 2})\n",
    "toxigen_large"
   ],
   "id": "60421dcd61d96db8",
   "outputs": [
    {
     "data": {
      "text/plain": [
       "                                                     text  label\n",
       "0       if youre white, you should be proud to be whit...      2\n",
       "1       the best thing that could have happened to the...      2\n",
       "2       theres no hope for the future because theres n...      2\n",
       "3              if youre white, you should be proud of it.      2\n",
       "4       no matter how much money or power you have, if...      2\n",
       "...                                                   ...    ...\n",
       "250946   My Chinese name is ai-lun (�媈礍) .\\r\\n- My fam...      0\n",
       "250947                           I can't believe they won      0\n",
       "250948          fín had a reputation as a musicians' city      0\n",
       "250949              I am thinking about getting a pet dog      0\n",
       "250950      it is dangerous to drive a car on windy roads      0\n",
       "\n",
       "[250951 rows x 2 columns]"
      ],
      "text/html": [
       "<div>\n",
       "<style scoped>\n",
       "    .dataframe tbody tr th:only-of-type {\n",
       "        vertical-align: middle;\n",
       "    }\n",
       "\n",
       "    .dataframe tbody tr th {\n",
       "        vertical-align: top;\n",
       "    }\n",
       "\n",
       "    .dataframe thead th {\n",
       "        text-align: right;\n",
       "    }\n",
       "</style>\n",
       "<table border=\"1\" class=\"dataframe\">\n",
       "  <thead>\n",
       "    <tr style=\"text-align: right;\">\n",
       "      <th></th>\n",
       "      <th>text</th>\n",
       "      <th>label</th>\n",
       "    </tr>\n",
       "  </thead>\n",
       "  <tbody>\n",
       "    <tr>\n",
       "      <th>0</th>\n",
       "      <td>if youre white, you should be proud to be whit...</td>\n",
       "      <td>2</td>\n",
       "    </tr>\n",
       "    <tr>\n",
       "      <th>1</th>\n",
       "      <td>the best thing that could have happened to the...</td>\n",
       "      <td>2</td>\n",
       "    </tr>\n",
       "    <tr>\n",
       "      <th>2</th>\n",
       "      <td>theres no hope for the future because theres n...</td>\n",
       "      <td>2</td>\n",
       "    </tr>\n",
       "    <tr>\n",
       "      <th>3</th>\n",
       "      <td>if youre white, you should be proud of it.</td>\n",
       "      <td>2</td>\n",
       "    </tr>\n",
       "    <tr>\n",
       "      <th>4</th>\n",
       "      <td>no matter how much money or power you have, if...</td>\n",
       "      <td>2</td>\n",
       "    </tr>\n",
       "    <tr>\n",
       "      <th>...</th>\n",
       "      <td>...</td>\n",
       "      <td>...</td>\n",
       "    </tr>\n",
       "    <tr>\n",
       "      <th>250946</th>\n",
       "      <td>My Chinese name is ai-lun (�媈礍) .\\r\\n- My fam...</td>\n",
       "      <td>0</td>\n",
       "    </tr>\n",
       "    <tr>\n",
       "      <th>250947</th>\n",
       "      <td>I can't believe they won</td>\n",
       "      <td>0</td>\n",
       "    </tr>\n",
       "    <tr>\n",
       "      <th>250948</th>\n",
       "      <td>fín had a reputation as a musicians' city</td>\n",
       "      <td>0</td>\n",
       "    </tr>\n",
       "    <tr>\n",
       "      <th>250949</th>\n",
       "      <td>I am thinking about getting a pet dog</td>\n",
       "      <td>0</td>\n",
       "    </tr>\n",
       "    <tr>\n",
       "      <th>250950</th>\n",
       "      <td>it is dangerous to drive a car on windy roads</td>\n",
       "      <td>0</td>\n",
       "    </tr>\n",
       "  </tbody>\n",
       "</table>\n",
       "<p>250951 rows × 2 columns</p>\n",
       "</div>"
      ]
     },
     "execution_count": 10,
     "metadata": {},
     "output_type": "execute_result"
    }
   ],
   "execution_count": 10
  },
  {
   "metadata": {
    "ExecuteTime": {
     "end_time": "2024-04-20T14:17:07.508012Z",
     "start_time": "2024-04-20T14:17:07.504753Z"
    }
   },
   "cell_type": "code",
   "source": "\n",
   "id": "e47db6dbf0e091b9",
   "outputs": [],
   "execution_count": 10
  },
  {
   "metadata": {
    "ExecuteTime": {
     "end_time": "2024-04-20T14:17:07.606482Z",
     "start_time": "2024-04-20T14:17:07.508012Z"
    }
   },
   "cell_type": "code",
   "source": [
    "frames = [train_df, toxigen_large]\n",
    "result = pd.concat(frames)\n",
    "result"
   ],
   "id": "544e4ef9ff1c5a15",
   "outputs": [
    {
     "data": {
      "text/plain": [
       "                                                     text  label\n",
       "0       Father Brennan : When the Jews return to Zion,...      0\n",
       "1       On December 30, 1767, in Savannah, Georgia, sl...      0\n",
       "2       Russian hackers are still going to be a huge p...      0\n",
       "3       Let me be clear whatever you have to say about...      1\n",
       "4       In dorana district of Mp hindutava organizatio...      0\n",
       "...                                                   ...    ...\n",
       "250946   My Chinese name is ai-lun (�媈礍) .\\r\\n- My fam...      0\n",
       "250947                           I can't believe they won      0\n",
       "250948          fín had a reputation as a musicians' city      0\n",
       "250949              I am thinking about getting a pet dog      0\n",
       "250950      it is dangerous to drive a car on windy roads      0\n",
       "\n",
       "[294852 rows x 2 columns]"
      ],
      "text/html": [
       "<div>\n",
       "<style scoped>\n",
       "    .dataframe tbody tr th:only-of-type {\n",
       "        vertical-align: middle;\n",
       "    }\n",
       "\n",
       "    .dataframe tbody tr th {\n",
       "        vertical-align: top;\n",
       "    }\n",
       "\n",
       "    .dataframe thead th {\n",
       "        text-align: right;\n",
       "    }\n",
       "</style>\n",
       "<table border=\"1\" class=\"dataframe\">\n",
       "  <thead>\n",
       "    <tr style=\"text-align: right;\">\n",
       "      <th></th>\n",
       "      <th>text</th>\n",
       "      <th>label</th>\n",
       "    </tr>\n",
       "  </thead>\n",
       "  <tbody>\n",
       "    <tr>\n",
       "      <th>0</th>\n",
       "      <td>Father Brennan : When the Jews return to Zion,...</td>\n",
       "      <td>0</td>\n",
       "    </tr>\n",
       "    <tr>\n",
       "      <th>1</th>\n",
       "      <td>On December 30, 1767, in Savannah, Georgia, sl...</td>\n",
       "      <td>0</td>\n",
       "    </tr>\n",
       "    <tr>\n",
       "      <th>2</th>\n",
       "      <td>Russian hackers are still going to be a huge p...</td>\n",
       "      <td>0</td>\n",
       "    </tr>\n",
       "    <tr>\n",
       "      <th>3</th>\n",
       "      <td>Let me be clear whatever you have to say about...</td>\n",
       "      <td>1</td>\n",
       "    </tr>\n",
       "    <tr>\n",
       "      <th>4</th>\n",
       "      <td>In dorana district of Mp hindutava organizatio...</td>\n",
       "      <td>0</td>\n",
       "    </tr>\n",
       "    <tr>\n",
       "      <th>...</th>\n",
       "      <td>...</td>\n",
       "      <td>...</td>\n",
       "    </tr>\n",
       "    <tr>\n",
       "      <th>250946</th>\n",
       "      <td>My Chinese name is ai-lun (�媈礍) .\\r\\n- My fam...</td>\n",
       "      <td>0</td>\n",
       "    </tr>\n",
       "    <tr>\n",
       "      <th>250947</th>\n",
       "      <td>I can't believe they won</td>\n",
       "      <td>0</td>\n",
       "    </tr>\n",
       "    <tr>\n",
       "      <th>250948</th>\n",
       "      <td>fín had a reputation as a musicians' city</td>\n",
       "      <td>0</td>\n",
       "    </tr>\n",
       "    <tr>\n",
       "      <th>250949</th>\n",
       "      <td>I am thinking about getting a pet dog</td>\n",
       "      <td>0</td>\n",
       "    </tr>\n",
       "    <tr>\n",
       "      <th>250950</th>\n",
       "      <td>it is dangerous to drive a car on windy roads</td>\n",
       "      <td>0</td>\n",
       "    </tr>\n",
       "  </tbody>\n",
       "</table>\n",
       "<p>294852 rows × 2 columns</p>\n",
       "</div>"
      ]
     },
     "execution_count": 11,
     "metadata": {},
     "output_type": "execute_result"
    }
   ],
   "execution_count": 11
  },
  {
   "metadata": {
    "ExecuteTime": {
     "end_time": "2024-04-20T14:17:08.633276Z",
     "start_time": "2024-04-20T14:17:07.606482Z"
    }
   },
   "cell_type": "code",
   "source": "result.to_csv(\"./data/large_merged_training_set_toxigen_and_hate.csv\", index=False)",
   "id": "8ddf2d74fd771d26",
   "outputs": [],
   "execution_count": 12
  },
  {
   "metadata": {
    "ExecuteTime": {
     "end_time": "2024-04-20T14:17:09.141633Z",
     "start_time": "2024-04-20T14:17:08.634289Z"
    }
   },
   "cell_type": "code",
   "source": [
    "print_label_counts(result)\n",
    "get_baseline_predictions(result)"
   ],
   "id": "31bf644a53e0ea1c",
   "outputs": [
    {
     "name": "stdout",
     "output_type": "stream",
     "text": [
      "Label in the dataset is '0.0' comprising 54.22% of the dataset.\n",
      "Label in the dataset is '2.0' comprising 42.98% of the dataset.\n",
      "Label in the dataset is '1.0' comprising 2.80% of the dataset.\n",
      "Accuracy: 0.5422211821524019\n",
      "Classification report:\n",
      "              precision    recall  f1-score   support\n",
      "\n",
      "           0       0.54      1.00      0.70    159875\n",
      "           1       1.00      0.00      0.00      8259\n",
      "           2       1.00      0.00      0.00    126718\n",
      "\n",
      "    accuracy                           0.54    294852\n",
      "   macro avg       0.85      0.33      0.23    294852\n",
      "weighted avg       0.75      0.54      0.38    294852\n",
      "\n"
     ]
    }
   ],
   "execution_count": 13
  },
  {
   "metadata": {
    "ExecuteTime": {
     "end_time": "2024-04-20T14:17:09.230696Z",
     "start_time": "2024-04-20T14:17:09.142597Z"
    }
   },
   "cell_type": "code",
   "source": "print_label_counts(validation_df)",
   "id": "29dbb467a540bb14",
   "outputs": [
    {
     "name": "stdout",
     "output_type": "stream",
     "text": [
      "Label in the dataset is '0.0' comprising 79.10% of the dataset.\n",
      "Label in the dataset is '1.0' comprising 18.68% of the dataset.\n",
      "Label in the dataset is '2.0' comprising 2.22% of the dataset.\n"
     ]
    }
   ],
   "execution_count": 14
  },
  {
   "metadata": {
    "ExecuteTime": {
     "end_time": "2024-04-20T14:17:09.235054Z",
     "start_time": "2024-04-20T14:17:09.230696Z"
    }
   },
   "cell_type": "code",
   "source": "",
   "id": "81a9a8ebf720d4e2",
   "outputs": [],
   "execution_count": 14
  }
 ],
 "metadata": {
  "kernelspec": {
   "display_name": "Python 3",
   "language": "python",
   "name": "python3"
  },
  "language_info": {
   "codemirror_mode": {
    "name": "ipython",
    "version": 2
   },
   "file_extension": ".py",
   "mimetype": "text/x-python",
   "name": "python",
   "nbconvert_exporter": "python",
   "pygments_lexer": "ipython2",
   "version": "2.7.6"
  }
 },
 "nbformat": 4,
 "nbformat_minor": 5
}
