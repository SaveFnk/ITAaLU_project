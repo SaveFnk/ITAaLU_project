{
 "cells": [
  {
   "cell_type": "markdown",
   "id": "55646e1f5350b500",
   "metadata": {},
   "source": "## Generating Feature Vectors with BERT"
  },
  {
   "cell_type": "code",
   "id": "be5a1b3673f6ef7b",
   "metadata": {
    "ExecuteTime": {
     "end_time": "2024-04-20T18:26:54.680584Z",
     "start_time": "2024-04-20T18:26:54.678676Z"
    }
   },
   "source": [
    "from transformers import BertTokenizer, BertModel #Hugging Face Transformers\n",
    "import torch"
   ],
   "outputs": [],
   "execution_count": 6
  },
  {
   "cell_type": "markdown",
   "id": "675c4f82c0466006",
   "metadata": {},
   "source": "### Load the Dataset"
  },
  {
   "metadata": {
    "ExecuteTime": {
     "end_time": "2024-04-20T18:26:54.705246Z",
     "start_time": "2024-04-20T18:26:54.681247Z"
    }
   },
   "cell_type": "code",
   "source": [
    "import pandas as pd\n",
    "from src.preprocessing.hatespeech_dataset_querying import prepare_hatespeech_v2_dataset, load_hatespeech_v2_dataset"
   ],
   "id": "5952d468e3325c5a",
   "outputs": [],
   "execution_count": 7
  },
  {
   "cell_type": "code",
   "id": "19159a5ac94c326a",
   "metadata": {
    "ExecuteTime": {
     "end_time": "2024-04-20T18:26:54.942410Z",
     "start_time": "2024-04-20T18:26:54.705913Z"
    }
   },
   "source": [
    "df = load_hatespeech_v2_dataset(\"../data/hatespeech_v2/prepared_hatespeech_v2.csv\")\n",
    "df"
   ],
   "outputs": [
    {
     "data": {
      "text/plain": [
       "                  tweet_id                                               text  \\\n",
       "0      1344794359233998850  You know maybe doing a “challenge” where I dri...   \n",
       "1      1344794162625916935  RT @thehill: Black transgender woman found dea...   \n",
       "2      1344794094837637121  2021 Goals: Playtest and release Rumrunners. R...   \n",
       "3      1344790842117140483  Guest Co Host: Men Like Us Podcast #StopTheHat...   \n",
       "4      1344788907360190465  👏 Congratulations @AyodejiOsowobi @StandtoEndR...   \n",
       "...                    ...                                                ...   \n",
       "68592  1277310569700196352  Fuck you @Google @GooglePlayDev @Android With ...   \n",
       "68593  1277310293467713536  Being an Arsenal fan is tough. Even people tha...   \n",
       "68594  1277309147697106945  No subs yet? Fuck off man we aren't playing in...   \n",
       "68595  1277309020198633475  Not Manchester United again damn it 🤣 I don't ...   \n",
       "68596  1277308852493524992  FUCKING KNEW IT, OBVIOUSLY HAD TO BE MANCHESTE...   \n",
       "\n",
       "       label  topic  \n",
       "0          0      1  \n",
       "1          0      1  \n",
       "2          0      1  \n",
       "3          0      1  \n",
       "4          0      1  \n",
       "...      ...    ...  \n",
       "68592      1      4  \n",
       "68593      1      4  \n",
       "68594      1      4  \n",
       "68595      2      4  \n",
       "68596      0      4  \n",
       "\n",
       "[68597 rows x 4 columns]"
      ],
      "text/html": [
       "<div>\n",
       "<style scoped>\n",
       "    .dataframe tbody tr th:only-of-type {\n",
       "        vertical-align: middle;\n",
       "    }\n",
       "\n",
       "    .dataframe tbody tr th {\n",
       "        vertical-align: top;\n",
       "    }\n",
       "\n",
       "    .dataframe thead th {\n",
       "        text-align: right;\n",
       "    }\n",
       "</style>\n",
       "<table border=\"1\" class=\"dataframe\">\n",
       "  <thead>\n",
       "    <tr style=\"text-align: right;\">\n",
       "      <th></th>\n",
       "      <th>tweet_id</th>\n",
       "      <th>text</th>\n",
       "      <th>label</th>\n",
       "      <th>topic</th>\n",
       "    </tr>\n",
       "  </thead>\n",
       "  <tbody>\n",
       "    <tr>\n",
       "      <th>0</th>\n",
       "      <td>1344794359233998850</td>\n",
       "      <td>You know maybe doing a “challenge” where I dri...</td>\n",
       "      <td>0</td>\n",
       "      <td>1</td>\n",
       "    </tr>\n",
       "    <tr>\n",
       "      <th>1</th>\n",
       "      <td>1344794162625916935</td>\n",
       "      <td>RT @thehill: Black transgender woman found dea...</td>\n",
       "      <td>0</td>\n",
       "      <td>1</td>\n",
       "    </tr>\n",
       "    <tr>\n",
       "      <th>2</th>\n",
       "      <td>1344794094837637121</td>\n",
       "      <td>2021 Goals: Playtest and release Rumrunners. R...</td>\n",
       "      <td>0</td>\n",
       "      <td>1</td>\n",
       "    </tr>\n",
       "    <tr>\n",
       "      <th>3</th>\n",
       "      <td>1344790842117140483</td>\n",
       "      <td>Guest Co Host: Men Like Us Podcast #StopTheHat...</td>\n",
       "      <td>0</td>\n",
       "      <td>1</td>\n",
       "    </tr>\n",
       "    <tr>\n",
       "      <th>4</th>\n",
       "      <td>1344788907360190465</td>\n",
       "      <td>👏 Congratulations @AyodejiOsowobi @StandtoEndR...</td>\n",
       "      <td>0</td>\n",
       "      <td>1</td>\n",
       "    </tr>\n",
       "    <tr>\n",
       "      <th>...</th>\n",
       "      <td>...</td>\n",
       "      <td>...</td>\n",
       "      <td>...</td>\n",
       "      <td>...</td>\n",
       "    </tr>\n",
       "    <tr>\n",
       "      <th>68592</th>\n",
       "      <td>1277310569700196352</td>\n",
       "      <td>Fuck you @Google @GooglePlayDev @Android With ...</td>\n",
       "      <td>1</td>\n",
       "      <td>4</td>\n",
       "    </tr>\n",
       "    <tr>\n",
       "      <th>68593</th>\n",
       "      <td>1277310293467713536</td>\n",
       "      <td>Being an Arsenal fan is tough. Even people tha...</td>\n",
       "      <td>1</td>\n",
       "      <td>4</td>\n",
       "    </tr>\n",
       "    <tr>\n",
       "      <th>68594</th>\n",
       "      <td>1277309147697106945</td>\n",
       "      <td>No subs yet? Fuck off man we aren't playing in...</td>\n",
       "      <td>1</td>\n",
       "      <td>4</td>\n",
       "    </tr>\n",
       "    <tr>\n",
       "      <th>68595</th>\n",
       "      <td>1277309020198633475</td>\n",
       "      <td>Not Manchester United again damn it 🤣 I don't ...</td>\n",
       "      <td>2</td>\n",
       "      <td>4</td>\n",
       "    </tr>\n",
       "    <tr>\n",
       "      <th>68596</th>\n",
       "      <td>1277308852493524992</td>\n",
       "      <td>FUCKING KNEW IT, OBVIOUSLY HAD TO BE MANCHESTE...</td>\n",
       "      <td>0</td>\n",
       "      <td>4</td>\n",
       "    </tr>\n",
       "  </tbody>\n",
       "</table>\n",
       "<p>68597 rows × 4 columns</p>\n",
       "</div>"
      ]
     },
     "execution_count": 8,
     "metadata": {},
     "output_type": "execute_result"
    }
   ],
   "execution_count": 8
  },
  {
   "cell_type": "code",
   "id": "95c66167110f456b",
   "metadata": {
    "ExecuteTime": {
     "end_time": "2024-04-20T18:26:55.621448Z",
     "start_time": "2024-04-20T18:26:54.942989Z"
    }
   },
   "source": [
    "# Load pre-trained BERT tokenizer\n",
    "tokenizer = BertTokenizer.from_pretrained('bert-base-uncased')\n",
    "\n",
    "# Load pre-trained BERT model\n",
    "model = BertModel.from_pretrained('bert-base-uncased')\n",
    "\n",
    "# Set model to evaluation mode\n",
    "model.eval()\n",
    "\n",
    "# Function to process text and obtain BERT embeddings\n",
    "def get_bert_embeddings(text):\n",
    "    # Tokenize input text\n",
    "    tokens = tokenizer.encode_plus(\n",
    "        text,\n",
    "        add_special_tokens=True,  # Add '[CLS]' and '[SEP]'\n",
    "        max_length=128,           # Truncate/pad input sequences to 128 tokens\n",
    "        padding='max_length',\n",
    "        return_attention_mask=True,  # Generate attention mask\n",
    "        return_tensors='pt'       # Return PyTorch tensors\n",
    "    )\n",
    "\n",
    "    # Get token IDs and attention mask\n",
    "    input_ids = tokens['input_ids']\n",
    "    attention_mask = tokens['attention_mask']\n",
    "\n",
    "    # Forward pass through the model\n",
    "    with torch.no_grad():\n",
    "        # Forward pass\n",
    "        outputs = model(input_ids, attention_mask=attention_mask)\n",
    "\n",
    "    # Get BERT embeddings (output of [CLS] token)\n",
    "    bert_embeddings = outputs[0][:, 0, :].squeeze().tolist()  # Extract embeddings of [CLS] token\n",
    "    return bert_embeddings\n"
   ],
   "outputs": [],
   "execution_count": 9
  },
  {
   "cell_type": "markdown",
   "id": "21d63bbe4841a0f8",
   "metadata": {},
   "source": [
    "### Generating BERT Embeddings"
   ]
  },
  {
   "cell_type": "code",
   "id": "a7d8d59021fef8",
   "metadata": {
    "ExecuteTime": {
     "end_time": "2024-04-20T19:46:27.307559Z",
     "start_time": "2024-04-20T18:26:55.622320Z"
    }
   },
   "source": [
    "#sample of the rows\n",
    "#df = df.sample(5000)\n",
    "\n",
    "df['bert_embeddings'] = df['text'].apply(get_bert_embeddings)\n",
    "\n",
    "# BERT embeddings:\n",
    "df.head()"
   ],
   "outputs": [
    {
     "data": {
      "text/plain": [
       "              tweet_id                                               text  \\\n",
       "0  1344794359233998850  You know maybe doing a “challenge” where I dri...   \n",
       "1  1344794162625916935  RT @thehill: Black transgender woman found dea...   \n",
       "2  1344794094837637121  2021 Goals: Playtest and release Rumrunners. R...   \n",
       "3  1344790842117140483  Guest Co Host: Men Like Us Podcast #StopTheHat...   \n",
       "4  1344788907360190465  👏 Congratulations @AyodejiOsowobi @StandtoEndR...   \n",
       "\n",
       "   label  topic                                    bert_embeddings  \n",
       "0      0      1  [0.16847427189350128, 0.038471419364213943, 0....  \n",
       "1      0      1  [-0.17179889976978302, -0.3453545570373535, -0...  \n",
       "2      0      1  [0.2647630572319031, -0.13153664767742157, 0.2...  \n",
       "3      0      1  [-0.2707246243953705, 0.10960787534713745, -0....  \n",
       "4      0      1  [0.06990789622068405, -0.16728679835796356, -0...  "
      ],
      "text/html": [
       "<div>\n",
       "<style scoped>\n",
       "    .dataframe tbody tr th:only-of-type {\n",
       "        vertical-align: middle;\n",
       "    }\n",
       "\n",
       "    .dataframe tbody tr th {\n",
       "        vertical-align: top;\n",
       "    }\n",
       "\n",
       "    .dataframe thead th {\n",
       "        text-align: right;\n",
       "    }\n",
       "</style>\n",
       "<table border=\"1\" class=\"dataframe\">\n",
       "  <thead>\n",
       "    <tr style=\"text-align: right;\">\n",
       "      <th></th>\n",
       "      <th>tweet_id</th>\n",
       "      <th>text</th>\n",
       "      <th>label</th>\n",
       "      <th>topic</th>\n",
       "      <th>bert_embeddings</th>\n",
       "    </tr>\n",
       "  </thead>\n",
       "  <tbody>\n",
       "    <tr>\n",
       "      <th>0</th>\n",
       "      <td>1344794359233998850</td>\n",
       "      <td>You know maybe doing a “challenge” where I dri...</td>\n",
       "      <td>0</td>\n",
       "      <td>1</td>\n",
       "      <td>[0.16847427189350128, 0.038471419364213943, 0....</td>\n",
       "    </tr>\n",
       "    <tr>\n",
       "      <th>1</th>\n",
       "      <td>1344794162625916935</td>\n",
       "      <td>RT @thehill: Black transgender woman found dea...</td>\n",
       "      <td>0</td>\n",
       "      <td>1</td>\n",
       "      <td>[-0.17179889976978302, -0.3453545570373535, -0...</td>\n",
       "    </tr>\n",
       "    <tr>\n",
       "      <th>2</th>\n",
       "      <td>1344794094837637121</td>\n",
       "      <td>2021 Goals: Playtest and release Rumrunners. R...</td>\n",
       "      <td>0</td>\n",
       "      <td>1</td>\n",
       "      <td>[0.2647630572319031, -0.13153664767742157, 0.2...</td>\n",
       "    </tr>\n",
       "    <tr>\n",
       "      <th>3</th>\n",
       "      <td>1344790842117140483</td>\n",
       "      <td>Guest Co Host: Men Like Us Podcast #StopTheHat...</td>\n",
       "      <td>0</td>\n",
       "      <td>1</td>\n",
       "      <td>[-0.2707246243953705, 0.10960787534713745, -0....</td>\n",
       "    </tr>\n",
       "    <tr>\n",
       "      <th>4</th>\n",
       "      <td>1344788907360190465</td>\n",
       "      <td>👏 Congratulations @AyodejiOsowobi @StandtoEndR...</td>\n",
       "      <td>0</td>\n",
       "      <td>1</td>\n",
       "      <td>[0.06990789622068405, -0.16728679835796356, -0...</td>\n",
       "    </tr>\n",
       "  </tbody>\n",
       "</table>\n",
       "</div>"
      ]
     },
     "execution_count": 10,
     "metadata": {},
     "output_type": "execute_result"
    }
   ],
   "execution_count": 10
  },
  {
   "cell_type": "markdown",
   "id": "d54915852faf1eb9",
   "metadata": {},
   "source": [
    "#### Classification Model"
   ]
  },
  {
   "cell_type": "markdown",
   "id": "9d46eca141b11994",
   "metadata": {},
   "source": [
    "### SVM Classifier"
   ]
  },
  {
   "cell_type": "code",
   "id": "4e541c76b70e86a7",
   "metadata": {
    "ExecuteTime": {
     "end_time": "2024-04-20T19:46:27.529614Z",
     "start_time": "2024-04-20T19:46:27.308034Z"
    }
   },
   "source": [
    "from sklearn.model_selection import train_test_split\n",
    "from sklearn.svm import SVC\n",
    "from sklearn.metrics import classification_report, accuracy_score"
   ],
   "outputs": [],
   "execution_count": 11
  },
  {
   "cell_type": "code",
   "id": "c43c69daf8e41732",
   "metadata": {
    "ExecuteTime": {
     "end_time": "2024-04-20T20:22:31.962254Z",
     "start_time": "2024-04-20T19:46:27.530350Z"
    }
   },
   "source": [
    "# Split the data into training and testing sets\n",
    "X_train, X_test, y_train, y_test = train_test_split(df['bert_embeddings'].tolist(), df['label'], test_size=0.2, random_state=42)\n",
    "\n",
    "# Initialize and train the SVM model\n",
    "svm_model = SVC(kernel='linear') #with linear kernel\n",
    "svm_model.fit(X_train, y_train)\n",
    "\n",
    "# Predict labels\n",
    "svm_y_pred = svm_model.predict(X_test)\n",
    "\n",
    "# Evaluate\n",
    "svm_accuracy = accuracy_score(y_test, svm_y_pred)\n",
    "svm_report = classification_report(y_test, svm_y_pred, digits=4)\n",
    "\n",
    "print(f\"Accuracy: {svm_accuracy * 100:.2f}%\")  # Improve formatting to two decimal places\n",
    "print(\"Classification report:\\n\", svm_report)  # Remove unnecessary f-string"
   ],
   "outputs": [
    {
     "name": "stdout",
     "output_type": "stream",
     "text": [
      "Accuracy: 88.24%\n",
      "Classification report:\n",
      "               precision    recall  f1-score   support\n",
      "\n",
      "           0     0.9126    0.9571    0.9343     10839\n",
      "           1     0.7463    0.6512    0.6955      2566\n",
      "           2     0.5398    0.1937    0.2850       315\n",
      "\n",
      "    accuracy                         0.8824     13720\n",
      "   macro avg     0.7329    0.6007    0.6383     13720\n",
      "weighted avg     0.8729    0.8824    0.8747     13720\n",
      "\n"
     ]
    }
   ],
   "execution_count": 12
  },
  {
   "cell_type": "markdown",
   "id": "5526d5d6d8f4844d",
   "metadata": {},
   "source": [
    "### Random Forest Classifier"
   ]
  },
  {
   "cell_type": "code",
   "id": "d50c771486ddae34",
   "metadata": {
    "ExecuteTime": {
     "end_time": "2024-04-20T20:29:18.622391Z",
     "start_time": "2024-04-20T20:29:18.607931Z"
    }
   },
   "source": "from sklearn.ensemble import RandomForestClassifier",
   "outputs": [],
   "execution_count": 15
  },
  {
   "cell_type": "code",
   "id": "6d8d0801dad7a73d",
   "metadata": {
    "ExecuteTime": {
     "end_time": "2024-04-20T20:31:10.754151Z",
     "start_time": "2024-04-20T20:29:18.623102Z"
    }
   },
   "source": [
    "# Initialize and train the Random Forest model\n",
    "rf_model = RandomForestClassifier(n_estimators=100, random_state=42)\n",
    "rf_model.fit(X_train, y_train)\n",
    "\n",
    "# Predict labels\n",
    "rf_y_pred = rf_model.predict(X_test)\n",
    "\n",
    "# Evaluate model performance\n",
    "rf_accuracy = accuracy_score(y_test, rf_y_pred)\n",
    "rf_report = classification_report(y_test, rf_y_pred, digits=4)\n",
    "\n",
    "print(f\"Accuracy: {rf_accuracy * 100:.2f}%\")  # Improve formatting to two decimal places\n",
    "print(\"Classification report:\\n\", rf_report)  # Remove unnecessary f-string"
   ],
   "outputs": [
    {
     "name": "stdout",
     "output_type": "stream",
     "text": [
      "Accuracy: 84.18%\n",
      "Classification report:\n",
      "               precision    recall  f1-score   support\n",
      "\n",
      "           0     0.8487    0.9822    0.9106     10839\n",
      "           1     0.7679    0.3519    0.4826      2566\n",
      "           2     0.0000    0.0000    0.0000       315\n",
      "\n",
      "    accuracy                         0.8418     13720\n",
      "   macro avg     0.5388    0.4447    0.4644     13720\n",
      "weighted avg     0.8141    0.8418    0.8096     13720\n",
      "\n"
     ]
    },
    {
     "name": "stderr",
     "output_type": "stream",
     "text": [
      "/home/saveriofnk/anaconda3/lib/python3.11/site-packages/sklearn/metrics/_classification.py:1344: UndefinedMetricWarning: Precision and F-score are ill-defined and being set to 0.0 in labels with no predicted samples. Use `zero_division` parameter to control this behavior.\n",
      "  _warn_prf(average, modifier, msg_start, len(result))\n",
      "/home/saveriofnk/anaconda3/lib/python3.11/site-packages/sklearn/metrics/_classification.py:1344: UndefinedMetricWarning: Precision and F-score are ill-defined and being set to 0.0 in labels with no predicted samples. Use `zero_division` parameter to control this behavior.\n",
      "  _warn_prf(average, modifier, msg_start, len(result))\n",
      "/home/saveriofnk/anaconda3/lib/python3.11/site-packages/sklearn/metrics/_classification.py:1344: UndefinedMetricWarning: Precision and F-score are ill-defined and being set to 0.0 in labels with no predicted samples. Use `zero_division` parameter to control this behavior.\n",
      "  _warn_prf(average, modifier, msg_start, len(result))\n"
     ]
    }
   ],
   "execution_count": 16
  }
 ],
 "metadata": {
  "kernelspec": {
   "display_name": "Python 3 (ipykernel)",
   "language": "python",
   "name": "python3"
  },
  "language_info": {
   "codemirror_mode": {
    "name": "ipython",
    "version": 3
   },
   "file_extension": ".py",
   "mimetype": "text/x-python",
   "name": "python",
   "nbconvert_exporter": "python",
   "pygments_lexer": "ipython3",
   "version": "3.11.7"
  }
 },
 "nbformat": 4,
 "nbformat_minor": 5
}
